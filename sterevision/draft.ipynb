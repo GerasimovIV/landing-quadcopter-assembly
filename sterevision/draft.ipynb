{
 "cells": [
  {
   "cell_type": "code",
   "execution_count": 1,
   "metadata": {},
   "outputs": [],
   "source": [
    "import cv2\n",
    "\n",
    "from ximea import xiapi\n",
    "from constants import XimeaParams\n",
    "\n",
    "class XiCamDriver(XimeaParams):\n",
    "    # Third parameter is for stereo vision,\n",
    "    # it's boolean and means master (if True),\n",
    "    # slave (if False) or single camera (if None).\n",
    "    #\n",
    "    # Example URL syntax:\n",
    "    # - `file:///full/path/to/local/file.yaml`\n",
    "    # - `package://ros_package_name/calibrations/camera.yaml`\n",
    "    #\n",
    "    # The `file:` URL specifies a full path name in the local system.\n",
    "    # The `package:` URL is handled the same as `file:`, except the path\n",
    "    # name is resolved relative to the location of the named ROS\n",
    "    # package, which must be reachable via `$ROS_PACKAGE_PATH`.\n",
    "    # TODO @maxtar move strings to the constants class\n",
    "    def __init__(self, serial_number, master=\"None\"):\n",
    "\n",
    "        self.cam = xiapi.Camera()\n",
    "        self.img = xiapi.Image()\n",
    "        self.master = master\n",
    "        self._init_camera(serial_number)\n",
    "        self.serial_number = serial_number\n",
    "\n",
    "    def _init_camera(self, serial_number):\n",
    "        self.cam.open_device_by_SN(serial_number)\n",
    "        self._set_params()\n",
    "\n",
    "    def start(self):\n",
    "        self.cam.start_acquisition()\n",
    "\n",
    "    def publish(self):\n",
    "\n",
    "        self.get_image()\n",
    "        image_data_numpy = self.img.get_image_data_numpy()\n",
    "        np.save(\"./images/image\" + str(self.serial_number), image_data_numpy)\n",
    "    def _set_params(self,\n",
    "                    img_data_format=XimeaParams.IMG_DATA_FORMAT,\n",
    "                    exposure=XimeaParams.EXPOSURE,\n",
    "                    gain=XimeaParams.GAIN,\n",
    "                    downsampling_type=XimeaParams.DOWNSAMPLING_TYPE,\n",
    "                    downsampling_rate=XimeaParams.DOWNSAMPLING_RATE):\n",
    "        self.cam.set_imgdataformat(img_data_format)\n",
    "        self.cam.set_exposure(exposure)\n",
    "        self.cam.set_gain(gain)\n",
    "\n",
    "        self.cam.set_downsampling_type(\"XI_\" + downsampling_type)\n",
    "        self.cam.set_downsampling(\"XI_DWN_\" + downsampling_rate)\n",
    "\n",
    "    def get_image(self):\n",
    "        self.cam.get_image(self.img)\n",
    "        # print(\"\\nIMG_TIMESTAMP: \" + str(self.img.tsSec) + \".\" + str(self.img.tsUSec) + \"\\n\")\n",
    "        # print(\"\\nCAM_TIMESTAMP: \" + str(self.cam.get_timestamp()) + \"\\n\")\n",
    "        return\n",
    "\n",
    "    def trig(self):\n",
    "        self.cam.set_trigger_software(1)\n",
    "\n",
    "    def stop(self):\n",
    "        self.cam.stop_acquisition()\n",
    "        self.cam.close_device()"
   ]
  },
  {
   "cell_type": "code",
   "execution_count": 2,
   "metadata": {},
   "outputs": [],
   "source": [
    "import time\n",
    "#import \n",
    "# from utils.constants import XimeaParams\n",
    "#from xicamdriver import XiCamDriver\n",
    "\n",
    "\n",
    "class StereoXiCamDriver:\n",
    "    def __init__(self, left_serial_number, left_is_master,\n",
    "                 right_serial_number, right_is_master, namespace=\"/stereo\"):\n",
    "        self.l_cam = XiCamDriver(serial_number=left_serial_number,\n",
    "                                 master=left_is_master)\n",
    "        self.r_cam = XiCamDriver(serial_number=right_serial_number,\n",
    "                                 master=right_is_master)\n",
    "        self.cams = self.l_cam, self.r_cam\n",
    "        # TODO @maxtar how to remove this sleep time?\n",
    "        time.sleep(2)\n",
    "        self.make_stereo()\n",
    "        for cam in self.cams:\n",
    "            cam.start()\n",
    "\n",
    "    def trig(self):\n",
    "        for cam in self.cams:\n",
    "            if cam.master is True:\n",
    "                cam.trig()\n",
    "\n",
    "    def make_stereo(self):\n",
    "        master_is_set = False\n",
    "        slave_is_set = False\n",
    "        assert (len(self.cams) == 2), \"There must be strictly two cameras.\"\n",
    "        for cam in self.cams:\n",
    "            if cam.master is True and master_is_set is False:\n",
    "                cam.cam.set_trigger_source(\"XI_TRG_SOFTWARE\")\n",
    "                cam.cam.set_gpo_selector(\"XI_GPO_PORT1\")\n",
    "                cam.cam.set_gpo_mode(\"XI_GPO_FRAME_ACTIVE_NEG\")  # XI_GPO_FRAME_ACTIVE_NEG / XI_GPO_EXPOSURE_ACTIVE\n",
    "            elif cam.master is False and slave_is_set is False:\n",
    "                cam.cam.set_trigger_source(\"XI_TRG_EDGE_RISING\")\n",
    "                cam.cam.set_gpi_selector(\"XI_GPI_PORT2\")\n",
    "                cam.cam.set_gpi_mode(\"XI_GPI_TRIGGER\")\n",
    "            elif (cam.master is True & master_is_set is True) or \\\n",
    "                    (cam.master is False & slave_is_set is True):\n",
    "                raise Exception(\"One of the cameras must be a master and the other a slave.\")\n",
    "        time.sleep(2)\n",
    "\n",
    "    def publish(self):\n",
    "        for cam in self.cams:\n",
    "            cam.publish()\n",
    "\n",
    "    def stop(self):\n",
    "        for cam in self.cams:\n",
    "            cam.stop()"
   ]
  },
  {
   "cell_type": "code",
   "execution_count": 3,
   "metadata": {},
   "outputs": [],
   "source": [
    "stereocam = StereoXiCamDriver(left_serial_number = \"25797059\", left_is_master = True,\n",
    "                 right_serial_number = \"25791059\" , right_is_master = False)\n"
   ]
  },
  {
   "cell_type": "code",
   "execution_count": 4,
   "metadata": {},
   "outputs": [
    {
     "ename": "Xi_error",
     "evalue": "ERROR 10: Timeout",
     "output_type": "error",
     "traceback": [
      "\u001b[0;31m---------------------------------------------------------------------------\u001b[0m",
      "\u001b[0;31mXi_error\u001b[0m                                  Traceback (most recent call last)",
      "\u001b[0;32m<ipython-input-4-c166f54e0ece>\u001b[0m in \u001b[0;36m<module>\u001b[0;34m()\u001b[0m\n\u001b[0;32m----> 1\u001b[0;31m \u001b[0mstereocam\u001b[0m\u001b[0;34m.\u001b[0m\u001b[0mpublish\u001b[0m\u001b[0;34m(\u001b[0m\u001b[0;34m)\u001b[0m\u001b[0;34m\u001b[0m\u001b[0;34m\u001b[0m\u001b[0m\n\u001b[0m",
      "\u001b[0;32m<ipython-input-2-8617b814778c>\u001b[0m in \u001b[0;36mpublish\u001b[0;34m(self)\u001b[0m\n\u001b[1;32m     43\u001b[0m     \u001b[0;32mdef\u001b[0m \u001b[0mpublish\u001b[0m\u001b[0;34m(\u001b[0m\u001b[0mself\u001b[0m\u001b[0;34m)\u001b[0m\u001b[0;34m:\u001b[0m\u001b[0;34m\u001b[0m\u001b[0;34m\u001b[0m\u001b[0m\n\u001b[1;32m     44\u001b[0m         \u001b[0;32mfor\u001b[0m \u001b[0mcam\u001b[0m \u001b[0;32min\u001b[0m \u001b[0mself\u001b[0m\u001b[0;34m.\u001b[0m\u001b[0mcams\u001b[0m\u001b[0;34m:\u001b[0m\u001b[0;34m\u001b[0m\u001b[0;34m\u001b[0m\u001b[0m\n\u001b[0;32m---> 45\u001b[0;31m             \u001b[0mcam\u001b[0m\u001b[0;34m.\u001b[0m\u001b[0mpublish\u001b[0m\u001b[0;34m(\u001b[0m\u001b[0;34m)\u001b[0m\u001b[0;34m\u001b[0m\u001b[0;34m\u001b[0m\u001b[0m\n\u001b[0m\u001b[1;32m     46\u001b[0m \u001b[0;34m\u001b[0m\u001b[0m\n\u001b[1;32m     47\u001b[0m     \u001b[0;32mdef\u001b[0m \u001b[0mstop\u001b[0m\u001b[0;34m(\u001b[0m\u001b[0mself\u001b[0m\u001b[0;34m)\u001b[0m\u001b[0;34m:\u001b[0m\u001b[0;34m\u001b[0m\u001b[0;34m\u001b[0m\u001b[0m\n",
      "\u001b[0;32m<ipython-input-1-223483ebf3ed>\u001b[0m in \u001b[0;36mpublish\u001b[0;34m(self)\u001b[0m\n\u001b[1;32m     35\u001b[0m     \u001b[0;32mdef\u001b[0m \u001b[0mpublish\u001b[0m\u001b[0;34m(\u001b[0m\u001b[0mself\u001b[0m\u001b[0;34m)\u001b[0m\u001b[0;34m:\u001b[0m\u001b[0;34m\u001b[0m\u001b[0;34m\u001b[0m\u001b[0m\n\u001b[1;32m     36\u001b[0m \u001b[0;34m\u001b[0m\u001b[0m\n\u001b[0;32m---> 37\u001b[0;31m         \u001b[0mself\u001b[0m\u001b[0;34m.\u001b[0m\u001b[0mget_image\u001b[0m\u001b[0;34m(\u001b[0m\u001b[0;34m)\u001b[0m\u001b[0;34m\u001b[0m\u001b[0;34m\u001b[0m\u001b[0m\n\u001b[0m\u001b[1;32m     38\u001b[0m         \u001b[0mimage_data_numpy\u001b[0m \u001b[0;34m=\u001b[0m \u001b[0mself\u001b[0m\u001b[0;34m.\u001b[0m\u001b[0mimg\u001b[0m\u001b[0;34m.\u001b[0m\u001b[0mget_image_data_numpy\u001b[0m\u001b[0;34m(\u001b[0m\u001b[0;34m)\u001b[0m\u001b[0;34m\u001b[0m\u001b[0;34m\u001b[0m\u001b[0m\n\u001b[1;32m     39\u001b[0m         \u001b[0mnp\u001b[0m\u001b[0;34m.\u001b[0m\u001b[0msave\u001b[0m\u001b[0;34m(\u001b[0m\u001b[0;34m\"./images/image\"\u001b[0m \u001b[0;34m+\u001b[0m \u001b[0mstr\u001b[0m\u001b[0;34m(\u001b[0m\u001b[0mself\u001b[0m\u001b[0;34m.\u001b[0m\u001b[0mserial_number\u001b[0m\u001b[0;34m)\u001b[0m\u001b[0;34m,\u001b[0m \u001b[0mimage_data_numpy\u001b[0m\u001b[0;34m)\u001b[0m\u001b[0;34m\u001b[0m\u001b[0;34m\u001b[0m\u001b[0m\n",
      "\u001b[0;32m<ipython-input-1-223483ebf3ed>\u001b[0m in \u001b[0;36mget_image\u001b[0;34m(self)\u001b[0m\n\u001b[1;32m     52\u001b[0m \u001b[0;34m\u001b[0m\u001b[0m\n\u001b[1;32m     53\u001b[0m     \u001b[0;32mdef\u001b[0m \u001b[0mget_image\u001b[0m\u001b[0;34m(\u001b[0m\u001b[0mself\u001b[0m\u001b[0;34m)\u001b[0m\u001b[0;34m:\u001b[0m\u001b[0;34m\u001b[0m\u001b[0;34m\u001b[0m\u001b[0m\n\u001b[0;32m---> 54\u001b[0;31m         \u001b[0mself\u001b[0m\u001b[0;34m.\u001b[0m\u001b[0mcam\u001b[0m\u001b[0;34m.\u001b[0m\u001b[0mget_image\u001b[0m\u001b[0;34m(\u001b[0m\u001b[0mself\u001b[0m\u001b[0;34m.\u001b[0m\u001b[0mimg\u001b[0m\u001b[0;34m)\u001b[0m\u001b[0;34m\u001b[0m\u001b[0;34m\u001b[0m\u001b[0m\n\u001b[0m\u001b[1;32m     55\u001b[0m         \u001b[0;31m# print(\"\\nIMG_TIMESTAMP: \" + str(self.img.tsSec) + \".\" + str(self.img.tsUSec) + \"\\n\")\u001b[0m\u001b[0;34m\u001b[0m\u001b[0;34m\u001b[0m\u001b[0;34m\u001b[0m\u001b[0m\n\u001b[1;32m     56\u001b[0m         \u001b[0;31m# print(\"\\nCAM_TIMESTAMP: \" + str(self.cam.get_timestamp()) + \"\\n\")\u001b[0m\u001b[0;34m\u001b[0m\u001b[0;34m\u001b[0m\u001b[0;34m\u001b[0m\u001b[0m\n",
      "\u001b[0;32m/usr/lib/python3/dist-packages/ximea/xiapi.py\u001b[0m in \u001b[0;36mget_image\u001b[0;34m(self, image, timeout)\u001b[0m\n\u001b[1;32m    316\u001b[0m \u001b[0;34m\u001b[0m\u001b[0m\n\u001b[1;32m    317\u001b[0m         \u001b[0;32mif\u001b[0m \u001b[0;32mnot\u001b[0m \u001b[0mstat\u001b[0m \u001b[0;34m==\u001b[0m \u001b[0;36m0\u001b[0m\u001b[0;34m:\u001b[0m\u001b[0;34m\u001b[0m\u001b[0;34m\u001b[0m\u001b[0m\n\u001b[0;32m--> 318\u001b[0;31m             \u001b[0;32mraise\u001b[0m \u001b[0mXi_error\u001b[0m\u001b[0;34m(\u001b[0m\u001b[0mstat\u001b[0m\u001b[0;34m)\u001b[0m\u001b[0;34m\u001b[0m\u001b[0;34m\u001b[0m\u001b[0m\n\u001b[0m\u001b[1;32m    319\u001b[0m \u001b[0;34m\u001b[0m\u001b[0m\n\u001b[1;32m    320\u001b[0m \u001b[0;34m\u001b[0m\u001b[0m\n",
      "\u001b[0;31mXi_error\u001b[0m: ERROR 10: Timeout"
     ]
    }
   ],
   "source": [
    "stereocam.publish()"
   ]
  },
  {
   "cell_type": "code",
   "execution_count": null,
   "metadata": {},
   "outputs": [],
   "source": [
    "stereocam.stop()"
   ]
  },
  {
   "cell_type": "code",
   "execution_count": null,
   "metadata": {},
   "outputs": [],
   "source": []
  },
  {
   "cell_type": "code",
   "execution_count": null,
   "metadata": {},
   "outputs": [],
   "source": []
  },
  {
   "cell_type": "code",
   "execution_count": 16,
   "metadata": {},
   "outputs": [],
   "source": []
  },
  {
   "cell_type": "code",
   "execution_count": 17,
   "metadata": {},
   "outputs": [],
   "source": [
    "from ximea import xiapi\n",
    "import numpy as np\n",
    "from PIL import Image\n",
    "import matplotlib.pyplot as plt\n",
    "from IPython.display import clear_output"
   ]
  },
  {
   "cell_type": "code",
   "execution_count": 18,
   "metadata": {},
   "outputs": [],
   "source": [
    "class camera_ximea:\n",
    "    def __init__(self, number):\n",
    "        self.number = number\n",
    "        self.cam = xiapi.Camera()\n",
    "        self.img = xiapi.Image()\n",
    "        \n",
    "    def open_device(self):\n",
    "        self.cam.open_device_by_SN(self.number)\n",
    "        #print('Opening camera: ' + self.number)\n",
    "        \n",
    "    def set_exp(self):\n",
    "        self.cam.set_exposure(10000)\n",
    "        \n",
    "    def start_asq(self):\n",
    "        self.cam.start_acquisition()\n",
    "        #print('Starting data acquisition...')\n",
    "        \n",
    "    def save_image(self, name_image):\n",
    "        self.cam.get_image(self.img)\n",
    "        data_numpy = self.img.get_image_data_numpy()\n",
    "        im = Image.fromarray(data_numpy)\n",
    "        line = \"./images_for_stereocalibration/\"+ self.number + \"/\"\n",
    "        im.save(line + name_image + \".png\")\n",
    "        #print('Image number: ' + str(i))\n",
    "        #print('Image width (pixels):  ' + str(img.width))\n",
    "        #print('Image height (pixels): ' + str(img.height))\n",
    "        #print('First 10 pixels: ' + str(data[:10]))\n",
    "        #print('\\n')\n",
    "        \n",
    "    def get_image(self):\n",
    "        self.cam.get_image(self.img)\n",
    "        data_numpy = self.img.get_image_data_numpy()\n",
    "        im = Image.fromarray(data_numpy)\n",
    "        return im\n",
    "    \n",
    "    def make_photo(self, name_image):\n",
    "        self.open_device()\n",
    "        self.set_exp()\n",
    "        self.start_asq()\n",
    "        self.save_image(name_image)\n",
    "        self.stop_asq()\n",
    "        self.close_device()\n",
    "        \n",
    "    def stop_asq(self):\n",
    "        self.cam.stop_acquisition()\n",
    "        #print('Stopping acquisition...')\n",
    "        \n",
    "    def close_device(self):\n",
    "        self.cam.close_device()\n",
    "        print('Done.')\n",
    "    \n",
    "    def show_me(self):\n",
    "        self.open_device()\n",
    "        self.set_exp()\n",
    "        self.start_asq()\n",
    "        plt.imshow(self.get_image())\n",
    "        plt.show()\n",
    "        self.stop_asq()\n",
    "        self.close_device()\n",
    "        \n",
    "    def start_cam(self):\n",
    "        self.open_device()\n",
    "        self.set_exp()\n",
    "        self.start_asq()\n",
    "        \n",
    "    def stop_cam(self):\n",
    "        self.stop_asq()\n",
    "        self.close_device()\n",
    "        "
   ]
  },
  {
   "cell_type": "code",
   "execution_count": 19,
   "metadata": {},
   "outputs": [],
   "source": [
    "class double_cam:\n",
    "    def __init__(self, left_cam_number, right_cam_number):\n",
    "        self.left_cam = camera_ximea(name_left)\n",
    "        self.right_cam = camera_ximea(name_right)\n",
    "        \n",
    "    def make_double_photo(self, name_left_photo, name_right_photo):\n",
    "        self.left_cam.make_photo(name_left_photo)\n",
    "        self.right_cam.make_photo(name_right_photo)\n",
    "    def quick_get_image(self):\n",
    "        return (self.left_cam.get_image(), self.right_cam.get_image())\n",
    "    \n",
    "    def quick_save_image(self, name_left_photo, name_right_photo):\n",
    "        self.left_cam.save_image(name_left_photo)\n",
    "        self.rgiht_cam.save_image(name_right_photo)\n",
    "        \n",
    "    def start_cams(self):\n",
    "        self.left_cam.start_cam()\n",
    "        self.right_cam.start_cam()\n",
    "        \n",
    "    def stop_cams(self):\n",
    "        self.left_cam.stop_cam()\n",
    "        self.right_cam.stop_cam()"
   ]
  },
  {
   "cell_type": "code",
   "execution_count": 20,
   "metadata": {},
   "outputs": [],
   "source": [
    "name_left = \"25797059\"\n",
    "name_right = \"25791059\"\n",
    "d_c = double_cam(name_left, name_right)"
   ]
  },
  {
   "cell_type": "code",
   "execution_count": 21,
   "metadata": {},
   "outputs": [],
   "source": [
    "#d_c.make_double_photo(\"1\", \"1\")"
   ]
  },
  {
   "cell_type": "code",
   "execution_count": 24,
   "metadata": {},
   "outputs": [],
   "source": [
    "d_c.start_cams()"
   ]
  },
  {
   "cell_type": "code",
   "execution_count": 25,
   "metadata": {},
   "outputs": [
    {
     "ename": "Xi_error",
     "evalue": "ERROR 10: Timeout",
     "output_type": "error",
     "traceback": [
      "\u001b[0;31m---------------------------------------------------------------------------\u001b[0m",
      "\u001b[0;31mXi_error\u001b[0m                                  Traceback (most recent call last)",
      "\u001b[0;32m<ipython-input-25-35aa51d3e8a4>\u001b[0m in \u001b[0;36m<module>\u001b[0;34m()\u001b[0m\n\u001b[1;32m      2\u001b[0m \u001b[0mclear_output\u001b[0m\u001b[0;34m(\u001b[0m\u001b[0;34m)\u001b[0m\u001b[0;34m\u001b[0m\u001b[0;34m\u001b[0m\u001b[0m\n\u001b[1;32m      3\u001b[0m \u001b[0mplots\u001b[0m\u001b[0;34m[\u001b[0m\u001b[0;36m0\u001b[0m\u001b[0;34m]\u001b[0m\u001b[0;34m.\u001b[0m\u001b[0mset_title\u001b[0m\u001b[0;34m(\u001b[0m\u001b[0;34m\"Left camera\"\u001b[0m\u001b[0;34m)\u001b[0m\u001b[0;34m\u001b[0m\u001b[0;34m\u001b[0m\u001b[0m\n\u001b[0;32m----> 4\u001b[0;31m \u001b[0mplots\u001b[0m\u001b[0;34m[\u001b[0m\u001b[0;36m0\u001b[0m\u001b[0;34m]\u001b[0m\u001b[0;34m.\u001b[0m\u001b[0mimshow\u001b[0m\u001b[0;34m(\u001b[0m\u001b[0md_c\u001b[0m\u001b[0;34m.\u001b[0m\u001b[0mquick_get_image\u001b[0m\u001b[0;34m(\u001b[0m\u001b[0;34m)\u001b[0m\u001b[0;34m[\u001b[0m\u001b[0;36m0\u001b[0m\u001b[0;34m]\u001b[0m\u001b[0;34m)\u001b[0m\u001b[0;34m\u001b[0m\u001b[0;34m\u001b[0m\u001b[0m\n\u001b[0m\u001b[1;32m      5\u001b[0m \u001b[0;34m\u001b[0m\u001b[0m\n\u001b[1;32m      6\u001b[0m \u001b[0mplots\u001b[0m\u001b[0;34m[\u001b[0m\u001b[0;36m1\u001b[0m\u001b[0;34m]\u001b[0m\u001b[0;34m.\u001b[0m\u001b[0mset_title\u001b[0m\u001b[0;34m(\u001b[0m\u001b[0;34m\"Right camera\"\u001b[0m\u001b[0;34m)\u001b[0m\u001b[0;34m\u001b[0m\u001b[0;34m\u001b[0m\u001b[0m\n",
      "\u001b[0;32m<ipython-input-19-3d1d4a38530f>\u001b[0m in \u001b[0;36mquick_get_image\u001b[0;34m(self)\u001b[0m\n\u001b[1;32m      8\u001b[0m         \u001b[0mself\u001b[0m\u001b[0;34m.\u001b[0m\u001b[0mright_cam\u001b[0m\u001b[0;34m.\u001b[0m\u001b[0mmake_photo\u001b[0m\u001b[0;34m(\u001b[0m\u001b[0mname_right_photo\u001b[0m\u001b[0;34m)\u001b[0m\u001b[0;34m\u001b[0m\u001b[0;34m\u001b[0m\u001b[0m\n\u001b[1;32m      9\u001b[0m     \u001b[0;32mdef\u001b[0m \u001b[0mquick_get_image\u001b[0m\u001b[0;34m(\u001b[0m\u001b[0mself\u001b[0m\u001b[0;34m)\u001b[0m\u001b[0;34m:\u001b[0m\u001b[0;34m\u001b[0m\u001b[0;34m\u001b[0m\u001b[0m\n\u001b[0;32m---> 10\u001b[0;31m         \u001b[0;32mreturn\u001b[0m \u001b[0;34m(\u001b[0m\u001b[0mself\u001b[0m\u001b[0;34m.\u001b[0m\u001b[0mleft_cam\u001b[0m\u001b[0;34m.\u001b[0m\u001b[0mget_image\u001b[0m\u001b[0;34m(\u001b[0m\u001b[0;34m)\u001b[0m\u001b[0;34m,\u001b[0m \u001b[0mself\u001b[0m\u001b[0;34m.\u001b[0m\u001b[0mright_cam\u001b[0m\u001b[0;34m.\u001b[0m\u001b[0mget_image\u001b[0m\u001b[0;34m(\u001b[0m\u001b[0;34m)\u001b[0m\u001b[0;34m)\u001b[0m\u001b[0;34m\u001b[0m\u001b[0;34m\u001b[0m\u001b[0m\n\u001b[0m\u001b[1;32m     11\u001b[0m \u001b[0;34m\u001b[0m\u001b[0m\n\u001b[1;32m     12\u001b[0m     \u001b[0;32mdef\u001b[0m \u001b[0mquick_save_image\u001b[0m\u001b[0;34m(\u001b[0m\u001b[0mself\u001b[0m\u001b[0;34m,\u001b[0m \u001b[0mname_left_photo\u001b[0m\u001b[0;34m,\u001b[0m \u001b[0mname_right_photo\u001b[0m\u001b[0;34m)\u001b[0m\u001b[0;34m:\u001b[0m\u001b[0;34m\u001b[0m\u001b[0;34m\u001b[0m\u001b[0m\n",
      "\u001b[0;32m<ipython-input-18-564074e48ab1>\u001b[0m in \u001b[0;36mget_image\u001b[0;34m(self)\u001b[0m\n\u001b[1;32m     29\u001b[0m \u001b[0;34m\u001b[0m\u001b[0m\n\u001b[1;32m     30\u001b[0m     \u001b[0;32mdef\u001b[0m \u001b[0mget_image\u001b[0m\u001b[0;34m(\u001b[0m\u001b[0mself\u001b[0m\u001b[0;34m)\u001b[0m\u001b[0;34m:\u001b[0m\u001b[0;34m\u001b[0m\u001b[0;34m\u001b[0m\u001b[0m\n\u001b[0;32m---> 31\u001b[0;31m         \u001b[0mself\u001b[0m\u001b[0;34m.\u001b[0m\u001b[0mcam\u001b[0m\u001b[0;34m.\u001b[0m\u001b[0mget_image\u001b[0m\u001b[0;34m(\u001b[0m\u001b[0mself\u001b[0m\u001b[0;34m.\u001b[0m\u001b[0mimg\u001b[0m\u001b[0;34m)\u001b[0m\u001b[0;34m\u001b[0m\u001b[0;34m\u001b[0m\u001b[0m\n\u001b[0m\u001b[1;32m     32\u001b[0m         \u001b[0mdata_numpy\u001b[0m \u001b[0;34m=\u001b[0m \u001b[0mself\u001b[0m\u001b[0;34m.\u001b[0m\u001b[0mimg\u001b[0m\u001b[0;34m.\u001b[0m\u001b[0mget_image_data_numpy\u001b[0m\u001b[0;34m(\u001b[0m\u001b[0;34m)\u001b[0m\u001b[0;34m\u001b[0m\u001b[0;34m\u001b[0m\u001b[0m\n\u001b[1;32m     33\u001b[0m         \u001b[0mim\u001b[0m \u001b[0;34m=\u001b[0m \u001b[0mImage\u001b[0m\u001b[0;34m.\u001b[0m\u001b[0mfromarray\u001b[0m\u001b[0;34m(\u001b[0m\u001b[0mdata_numpy\u001b[0m\u001b[0;34m)\u001b[0m\u001b[0;34m\u001b[0m\u001b[0;34m\u001b[0m\u001b[0m\n",
      "\u001b[0;32m/usr/lib/python3/dist-packages/ximea/xiapi.py\u001b[0m in \u001b[0;36mget_image\u001b[0;34m(self, image, timeout)\u001b[0m\n\u001b[1;32m    316\u001b[0m \u001b[0;34m\u001b[0m\u001b[0m\n\u001b[1;32m    317\u001b[0m         \u001b[0;32mif\u001b[0m \u001b[0;32mnot\u001b[0m \u001b[0mstat\u001b[0m \u001b[0;34m==\u001b[0m \u001b[0;36m0\u001b[0m\u001b[0;34m:\u001b[0m\u001b[0;34m\u001b[0m\u001b[0;34m\u001b[0m\u001b[0m\n\u001b[0;32m--> 318\u001b[0;31m             \u001b[0;32mraise\u001b[0m \u001b[0mXi_error\u001b[0m\u001b[0;34m(\u001b[0m\u001b[0mstat\u001b[0m\u001b[0;34m)\u001b[0m\u001b[0;34m\u001b[0m\u001b[0;34m\u001b[0m\u001b[0m\n\u001b[0m\u001b[1;32m    319\u001b[0m \u001b[0;34m\u001b[0m\u001b[0m\n\u001b[1;32m    320\u001b[0m \u001b[0;34m\u001b[0m\u001b[0m\n",
      "\u001b[0;31mXi_error\u001b[0m: ERROR 10: Timeout"
     ]
    },
    {
     "data": {
      "image/png": "[encoded data removed]",
      "text/plain": [
       "<Figure size 1440x720 with 2 Axes>"
      ]
     },
     "metadata": {
      "needs_background": "light"
     },
     "output_type": "display_data"
    }
   ],
   "source": [
    "fx, plots = plt.subplots(1, 2, figsize=(20,10))\n",
    "clear_output()\n",
    "plots[0].set_title(\"Left camera\")\n",
    "plots[0].imshow(d_c.quick_get_image()[0])\n",
    "\n",
    "plots[1].set_title(\"Right camera\")\n",
    "plots[1].imshow(d_c.quick_get_image()[1])"
   ]
  },
  {
   "cell_type": "code",
   "execution_count": null,
   "metadata": {},
   "outputs": [],
   "source": [
    "d_c.stop_cams()"
   ]
  },
  {
   "cell_type": "code",
   "execution_count": null,
   "metadata": {},
   "outputs": [],
   "source": []
  }
 ],
 "metadata": {
  "kernelspec": {
   "display_name": "Python 3",
   "language": "python",
   "name": "python3"
  },
  "language_info": {
   "codemirror_mode": {
    "name": "ipython",
    "version": 3
   },
   "file_extension": ".py",
   "mimetype": "text/x-python",
   "name": "python",
   "nbconvert_exporter": "python",
   "pygments_lexer": "ipython3",
   "version": "3.6.8"
  }
 },
 "nbformat": 4,
 "nbformat_minor": 2
}
