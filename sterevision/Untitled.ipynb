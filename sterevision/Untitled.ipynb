{
 "cells": [
  {
   "cell_type": "code",
   "execution_count": 20,
   "metadata": {},
   "outputs": [],
   "source": [
    "from ximea import xiapi\n",
    "import numpy as np\n",
    "from PIL import Image\n",
    "import matplotlib.pyplot as plt\n",
    "from IPython.display import clear_output\n",
    "import time\n",
    "from tqdm import tqdm_notebook\n",
    "\n",
    "\n",
    "class camera_ximea:\n",
    "    def __init__(self, number):\n",
    "        self.number = number\n",
    "        self.cam = xiapi.Camera()\n",
    "        self.img = xiapi.Image()\n",
    "        self.photo = None\n",
    "        self.line = \"./images_for_stereocalibration/\"+ self.number + \"/\"\n",
    "        \n",
    "    def open_device(self):\n",
    "        self.cam.open_device_by_SN(self.number)\n",
    "        #print('Opening camera: ' + self.number)\n",
    "        \n",
    "    def set_exp(self):\n",
    "        self.cam.set_exposure(10000)\n",
    "        \n",
    "    def start_asq(self):\n",
    "        self.cam.start_acquisition()\n",
    "        #print('Starting data acquisition...')\n",
    "        \n",
    "    def save_image(self, name_image):\n",
    "        self.cam.get_image(self.img)\n",
    "        data_numpy = self.img.get_image_data_numpy()\n",
    "        im = Image.fromarray(data_numpy)\n",
    "        #line = \"./images_for_stereocalibration/\"+ self.number + \"/\"\n",
    "        im.save(self.line + name_image + \".png\")\n",
    "        #print('Image number: ' + str(i))\n",
    "        #print('Image width (pixels):  ' + str(img.width))\n",
    "        #print('Image height (pixels): ' + str(img.height))\n",
    "        #print('First 10 pixels: ' + str(data[:10]))\n",
    "        #print('\\n')\n",
    "        \n",
    "    def get_image(self):\n",
    "        self.cam.get_image(self.img)\n",
    "        data_numpy = self.img.get_image_data_numpy()\n",
    "        im = Image.fromarray(data_numpy)\n",
    "        return im\n",
    "    \n",
    "    def make_photo(self, name_image):\n",
    "        self.open_device()\n",
    "        self.set_exp()\n",
    "        self.start_asq()\n",
    "        self.save_image(name_image)\n",
    "        self.stop_asq()\n",
    "        self.close_device()\n",
    "        \n",
    "    def stop_asq(self):\n",
    "        self.cam.stop_acquisition()\n",
    "        #print('Stopping acquisition...')\n",
    "        \n",
    "    def close_device(self):\n",
    "        self.cam.close_device()\n",
    "        print('Done.')\n",
    "    \n",
    "    def show_me(self):\n",
    "        self.open_device()\n",
    "        self.set_exp()\n",
    "        self.start_asq()\n",
    "        plt.imshow(self.get_image())\n",
    "        plt.show()\n",
    "        self.stop_asq()\n",
    "        self.close_device()\n",
    "        \n",
    "    def start_cam(self):\n",
    "        self.open_device()\n",
    "        self.set_exp()\n",
    "        self.start_asq()\n",
    "        \n",
    "    def stop_cam(self):\n",
    "        self.stop_asq()\n",
    "        self.close_device()\n",
    "    \n",
    "    def save_photo(self,name_image):\n",
    "        #line = \"./images_for_stereocalibration/\"+ self.number + \"/\"\n",
    "        self.photo.save(self.line + name_image + \".png\")\n",
    "        \n",
    "        \n",
    "class double_cam:\n",
    "    def __init__(self, left_cam_number, right_cam_number):\n",
    "        self.left_cam = camera_ximea(name_left)\n",
    "        self.right_cam = camera_ximea(name_right)\n",
    "        \n",
    "    def make_double_photo(self, name_left_photo, name_right_photo):\n",
    "        self.left_cam.make_photo(name_left_photo)\n",
    "        self.right_cam.make_photo(name_right_photo)\n",
    "    def quick_get_image(self):\n",
    "        return (self.left_cam.get_image(), self.right_cam.get_image())\n",
    "    \n",
    "    def quick_save_image(self, name_left_photo, name_right_photo):\n",
    "        self.left_cam.save_image(name_left_photo)\n",
    "        self.rgiht_cam.save_image(name_right_photo)\n",
    "        \n",
    "    def start_cams(self):\n",
    "        self.left_cam.start_cam()\n",
    "        self.right_cam.start_cam()\n",
    "        \n",
    "    def stop_cams(self):\n",
    "        self.left_cam.stop_cam()\n",
    "        self.right_cam.stop_cam()\n",
    "        \n",
    "    def show_me(self):\n",
    "        fx, plots = plt.subplots(1, 2, figsize=(20,10))\n",
    "        clear_output()\n",
    "        self.left_cam.start_cam()\n",
    "        plots[0].set_title(\"Left camera\")\n",
    "        self.left_cam.photo = self.left_cam.get_image()\n",
    "        plots[0].imshow(self.left_cam.get_image())\n",
    "        self.left_cam.stop_cam()\n",
    "        \n",
    "        self.right_cam.start_cam()\n",
    "        plots[1].set_title(\"Right camera\")\n",
    "        self.right_cam.photo = self.right_cam.get_image()\n",
    "        plots[1].imshow(self.right_cam.photo)\n",
    "        self.right_cam.stop_cam()\n",
    "        plt.show()\n",
    "    def save_photos(self, name_left_photo, name_right_photo):\n",
    "        self.left_cam.save_photo(name_left_photo)\n",
    "        self.right_cam.save_photo(name_right_photo)\n"
   ]
  },
  {
   "cell_type": "code",
   "execution_count": 21,
   "metadata": {},
   "outputs": [],
   "source": [
    "name_left = \"25797059\"\n",
    "name_right = \"25791059\"\n",
    "d_c = double_cam(name_left, name_right)"
   ]
  },
  {
   "cell_type": "code",
   "execution_count": 22,
   "metadata": {},
   "outputs": [],
   "source": [
    "#d_c.start_cams()"
   ]
  },
  {
   "cell_type": "code",
   "execution_count": null,
   "metadata": {},
   "outputs": [
    {
     "name": "stdout",
     "output_type": "stream",
     "text": [
      "Done.\n"
     ]
    }
   ],
   "source": [
    "a = 0\n",
    "for i in tqdm_notebook(range(3)):\n",
    "    while (a != 1):\n",
    "        d_c.show_me()\n",
    "        a = int(input())\n",
    "        if a == 1:\n",
    "            print(i)\n",
    "            d_c.save_photos(str(i), str(i))\n",
    "    a = 0"
   ]
  },
  {
   "cell_type": "code",
   "execution_count": null,
   "metadata": {},
   "outputs": [],
   "source": [
    "#d_c.stop_cams()"
   ]
  },
  {
   "cell_type": "code",
   "execution_count": null,
   "metadata": {},
   "outputs": [],
   "source": [
    "#d_c.left_cam.stop_cam()"
   ]
  },
  {
   "cell_type": "code",
   "execution_count": null,
   "metadata": {},
   "outputs": [],
   "source": [
    "#d_c.right_cam.stop_cam()"
   ]
  },
  {
   "cell_type": "code",
   "execution_count": null,
   "metadata": {},
   "outputs": [],
   "source": []
  }
 ],
 "metadata": {
  "kernelspec": {
   "display_name": "Python 3",
   "language": "python",
   "name": "python3"
  },
  "language_info": {
   "codemirror_mode": {
    "name": "ipython",
    "version": 3
   },
   "file_extension": ".py",
   "mimetype": "text/x-python",
   "name": "python",
   "nbconvert_exporter": "python",
   "pygments_lexer": "ipython3",
   "version": "3.6.8"
  }
 },
 "nbformat": 4,
 "nbformat_minor": 2
}
