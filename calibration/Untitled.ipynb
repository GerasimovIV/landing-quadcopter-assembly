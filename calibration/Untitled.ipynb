{
 "cells": [
  {
   "cell_type": "code",
   "execution_count": 1,
   "metadata": {},
   "outputs": [],
   "source": [
    "import cv2\n",
    "import numpy as np\n",
    "import glob\n",
    "from tqdm import tqdm\n",
    "import PIL.ExifTags\n",
    "import PIL.Image\n",
    "import matplotlib.pyplot as plt\n",
    "from tqdm import tqdm_notebook\n",
    "from tqdm import tqdm\n",
    "\n",
    "\n",
    "class calibrator:\n",
    "    def __init__(self, number_cam, fl):\n",
    "        self.number_cam = number_cam\n",
    "        self.ret = None\n",
    "        self.K = None\n",
    "        self.dist = None\n",
    "        self.rvecs = None\n",
    "        self.tvecs = None\n",
    "        self.focal_length = fl\n",
    "        self.detected = None\n",
    "        self.count = None\n",
    "        self.line_to_images = './calibration_images/' + number_cam + '/*'\n",
    "        self.line_to_params = \"./camera_params/\" + number_cam + \"/\"\n",
    "        self.obj_points = None\n",
    "        self.imagePoints1 = None\n",
    "        self.gray_image_shape = None\n",
    "        self.image_size = None\n",
    "        self.detected_image_list = []\n",
    "        self.line_to_images_new = './calibration_images/new/' + number_cam + '/*'\n",
    "\n",
    "    def save_params(self):\n",
    "        # Save parameters into numpy file\n",
    "        line = self.line_to_params\n",
    "        np.save(line + \"ret\", self.ret)\n",
    "        np.save(line + \"K\", self.K)\n",
    "        np.save(line + \"dist\", self.dist)\n",
    "        np.save(line + \"rvecs\", self.rvecs)\n",
    "        np.save(line + \"tvecs\", self.tvecs)\n",
    "        np.save(line + \"FocalLength\", self.focal_length)\n",
    "\n",
    "    def calibration_(self):\n",
    "        # ============================================\n",
    "        # Camera calibration\n",
    "        # ============================================\n",
    "\n",
    "        # Define size of chessboard target.\n",
    "\n",
    "        chessboard_size = (6, 9)\n",
    "        # chessboard_size = (7,5)\n",
    "        # Define arrays to save detected points\n",
    "        obj_points = []  # 3D points in real world space\n",
    "        img_points = []  # 3D points in image plane\n",
    "\n",
    "        # Prepare grid and points to display\n",
    "\n",
    "        objp = np.zeros((np.prod(chessboard_size), 3), dtype=np.float32)\n",
    "\n",
    "        objp[:, :2] = np.mgrid[0:chessboard_size[0], 0:chessboard_size[1]].T.reshape(-1, 2)\n",
    "\n",
    "        # read images\n",
    "        line = self.line_to_images_new\n",
    "        calibration_paths = glob.glob(line)\n",
    "        calibration_paths.sort()\n",
    "        t = 0\n",
    "        y = 0\n",
    "        # Iterate over images to find intrinsic matrix\n",
    "        #for image_path in tqdm_notebook(calibration_paths):\n",
    "        print(\"Calibration ...\" + \"\\n\" + \"camera: \" + self.number_cam)\n",
    "        for image_path in tqdm_notebook(calibration_paths):\n",
    "\n",
    "            # Load image\n",
    "            image = cv2.imread(image_path)\n",
    "            gray_image = cv2.cvtColor(image, cv2.COLOR_BGR2GRAY)\n",
    "            # print(\"Image loaded, Analizying...\")\n",
    "            # find chessboard corners\n",
    "            # plt.imshow(gray_image)\n",
    "            # plt.show()\n",
    "            ret, corners = cv2.findChessboardCorners(gray_image, chessboard_size, None)\n",
    "\n",
    "            if ret == True:\n",
    "                # print(\"+++++++++++++++++Chessboard detected!+++++++++++++++++\")\n",
    "                # print(image_path)\n",
    "                # define criteria for subpixel accuracy\n",
    "                criteria = (cv2.TERM_CRITERIA_EPS + cv2.TERM_CRITERIA_MAX_ITER, 30, 0.001)\n",
    "                # refine corner location (to subpixel accuracy) based on criteria.\n",
    "                cv2.cornerSubPix(gray_image, corners, (5, 5), (-1, -1), criteria)\n",
    "                obj_points.append(objp)\n",
    "                img_points.append(corners)\n",
    "                self.detected_image_list.append(image_path)\n",
    "                y += 1\n",
    "            t += 1\n",
    "        h, w = image.shape[:2]\n",
    "        self.image_size = (h,w)\n",
    "        self.detected = y\n",
    "        self.count = t\n",
    "        # Calibrate camera\n",
    "        self.ret, self.K, self.dist, self.rvecs, self.tvecs = cv2.calibrateCamera(obj_points,\n",
    "                                                                                  img_points,\n",
    "                                                                                  gray_image.shape[::-1],\n",
    "                                                                                  None, None)\n",
    "        self.obj_points = obj_points\n",
    "        self.img_points = img_points\n",
    "        self.gray_image_shape = gray_image.shape[::-1]\n",
    "        print(\"================ Calibration was successful  =================\")\n",
    "\n",
    "    def calibration_cam(self):\n",
    "        self.calibration_()\n",
    "        self.save_params()\n",
    "        print(\"There were only images: \" + str(self.count) + \"\\n\" + \"There were a total of images found: \" + str(\n",
    "            self.detected))\n",
    "\n",
    "\n",
    "    def make_detected_image_list(self):\n",
    "\n",
    "        # read images\n",
    "        line = self.line_to_images\n",
    "        calibration_paths = glob.glob(line)\n",
    "        chessboard_size = (6, 9)\n",
    "        print(\"Make detected_image_list, camera: \" + self.number_cam)\n",
    "        for image_path in tqdm_notebook(calibration_paths):\n",
    "\n",
    "            # Load image\n",
    "            image = cv2.imread(image_path)\n",
    "            gray_image = cv2.cvtColor(image, cv2.COLOR_BGR2GRAY)\n",
    "            ret, corners = cv2.findChessboardCorners(gray_image, chessboard_size, None)\n",
    "\n",
    "            if ret == True:\n",
    "                self.detected_image_list.append(image_path[len(self.line_to_images)-1:])\n",
    "\n",
    "\n",
    "\n",
    "class stereo_calibrator:\n",
    "    def __init__(self, number_cam_left, number_cam_right, fl_left, fl_right):\n",
    "        self.number_cam_left = number_cam_left\n",
    "        self.number_cam_right = number_cam_right\n",
    "        self.link_to_recreate = './calibration_images/new/'\n",
    "        self.calibrovka_left = calibrator(number_cam_left, fl_left)\n",
    "        self.calibrovka_right = calibrator(number_cam_right, fl_right)\n",
    "\n",
    "    def stereo_calibration_separately(self):\n",
    "        self.calibrovka_left.calibration_cam()\n",
    "        self.calibrovka_right.calibration_cam()\n",
    "\n",
    "\n",
    "    def stereo_calibration_together(self):\n",
    "        ret, K_left, dist_left, K_right, dist_right, R, T, E, F = cv2.stereoCalibrate(\n",
    "            objectPoints=self.calibrovka_left.obj_points,\n",
    "            imagePoints1=self.calibrovka_left.img_points,\n",
    "            imagePoints2=self.calibrovka_right.img_points,\n",
    "            cameraMatrix1=self.calibrovka_left.K,\n",
    "            distCoeffs1=self.calibrovka_left.dist,\n",
    "            cameraMatrix2=self.calibrovka_right.K,\n",
    "            distCoeffs2=self.calibrovka_right.dist,\n",
    "            imageSize=self.calibrovka_left.gray_image_shape)\n",
    "        # see more obout this parameters : https://docs.opencv.org/2.4/modules/calib3d/doc/calib3d.html\n",
    "\n",
    "        link = \"./camera_params/stereo_params/\"\n",
    "        # Save parameters into numpy file\n",
    "        np.save(link + \"ret\", ret)\n",
    "        np.save(link + \"K_left\", K_left)\n",
    "        np.save(link + \"K_right\", K_right)\n",
    "        np.save(link + \"dist_left\", dist_left)\n",
    "        np.save(link + \"dist_right\", dist_right)\n",
    "        np.save(link + \"R\", R)\n",
    "        np.save(link + \"T\", T)\n",
    "        np.save(link + \"E\", E)\n",
    "        np.save(link + \"F\", F)\n",
    "        np.save(link + \"image_size\", self.calibrovka_left.image_size)\n",
    "        print(\"================ Stereocalibration was successful  =================\")\n",
    "\n",
    "    def stereo_calibration(self):\n",
    "    \tself.selection()\n",
    "    \tself.stereo_calibration_separately()\n",
    "    \tself.stereo_calibration_together()\n",
    "    \t\n",
    "    def re_create_data_images(self):\n",
    "        ll = self.calibrovka_left.detected_image_list\n",
    "        lr = self.calibrovka_right.detected_image_list\n",
    "        print(\"Re-create data images\")\n",
    "\n",
    "        for l in tqdm_notebook(ll):\n",
    "            if l in lr:\n",
    "                \n",
    "                image_left = cv2.imread(self.calibrovka_left.line_to_images[:-1] + l)\n",
    "                image_right = cv2.imread(self.calibrovka_right.line_to_images[:-1] + l)\n",
    "                cv2.imwrite(self.link_to_recreate + self.calibrovka_left.number_cam + '/' + l, image_left)\n",
    "                cv2.imwrite(self.link_to_recreate + self.calibrovka_right.number_cam + '/' + l, image_right)\n",
    "\n",
    "    def selection(self):\n",
    "    \tself.calibrovka_left.make_detected_image_list()\n",
    "    \tself.calibrovka_right.make_detected_image_list()\n",
    "    \tself.re_create_data_images()\n",
    "\n"
   ]
  },
  {
   "cell_type": "code",
   "execution_count": 2,
   "metadata": {},
   "outputs": [],
   "source": [
    "\n",
    "name_left = \"25797059\"\n",
    "name_right = \"25791059\"\n",
    "calib = stereo_calibrator(name_left, name_right, 8, 8)"
   ]
  },
  {
   "cell_type": "code",
   "execution_count": 3,
   "metadata": {},
   "outputs": [
    {
     "name": "stdout",
     "output_type": "stream",
     "text": [
      "Make detected_image_list, camera: 25797059\n"
     ]
    },
    {
     "data": {
      "application/vnd.jupyter.widget-view+json": {
       "model_id": "31ca49ef78264ef3acb38f37b284dded",
       "version_major": 2,
       "version_minor": 0
      },
      "text/plain": [
       "HBox(children=(IntProgress(value=0, max=21), HTML(value='')))"
      ]
     },
     "metadata": {},
     "output_type": "display_data"
    },
    {
     "name": "stdout",
     "output_type": "stream",
     "text": [
      "\n",
      "Make detected_image_list, camera: 25791059\n"
     ]
    },
    {
     "data": {
      "application/vnd.jupyter.widget-view+json": {
       "model_id": "5bf5a13f268b428da87b11969821a3b3",
       "version_major": 2,
       "version_minor": 0
      },
      "text/plain": [
       "HBox(children=(IntProgress(value=0, max=30), HTML(value='')))"
      ]
     },
     "metadata": {},
     "output_type": "display_data"
    },
    {
     "name": "stdout",
     "output_type": "stream",
     "text": [
      "\n",
      "Re-create data images\n"
     ]
    },
    {
     "data": {
      "application/vnd.jupyter.widget-view+json": {
       "model_id": "7333440ce115477b991b43c4aa10e9e0",
       "version_major": 2,
       "version_minor": 0
      },
      "text/plain": [
       "HBox(children=(IntProgress(value=0, max=21), HTML(value='')))"
      ]
     },
     "metadata": {},
     "output_type": "display_data"
    },
    {
     "name": "stdout",
     "output_type": "stream",
     "text": [
      "\n",
      "Calibration ...\n",
      "camera: 25797059\n"
     ]
    },
    {
     "data": {
      "application/vnd.jupyter.widget-view+json": {
       "model_id": "ab94199e03864154be22e8ea51f2ccc0",
       "version_major": 2,
       "version_minor": 0
      },
      "text/plain": [
       "HBox(children=(IntProgress(value=0, max=21), HTML(value='')))"
      ]
     },
     "metadata": {},
     "output_type": "display_data"
    },
    {
     "name": "stdout",
     "output_type": "stream",
     "text": [
      "\n",
      "================ Calibration was successful  =================\n",
      "There were only images: 21\n",
      "There were a total of images found: 21\n",
      "Calibration ...\n",
      "camera: 25791059\n"
     ]
    },
    {
     "data": {
      "application/vnd.jupyter.widget-view+json": {
       "model_id": "dc01b34bce4441c3b40618019f2ac11c",
       "version_major": 2,
       "version_minor": 0
      },
      "text/plain": [
       "HBox(children=(IntProgress(value=0, max=21), HTML(value='')))"
      ]
     },
     "metadata": {},
     "output_type": "display_data"
    },
    {
     "name": "stdout",
     "output_type": "stream",
     "text": [
      "\n",
      "================ Calibration was successful  =================\n",
      "There were only images: 21\n",
      "There were a total of images found: 21\n",
      "================ Stereocalibration was successful  =================\n"
     ]
    }
   ],
   "source": [
    "calib.stereo_calibration()"
   ]
  },
  {
   "cell_type": "code",
   "execution_count": 3,
   "metadata": {},
   "outputs": [
    {
     "name": "stdout",
     "output_type": "stream",
     "text": [
      "Calibration ...\n",
      "camera: 25797059\n"
     ]
    },
    {
     "data": {
      "application/vnd.jupyter.widget-view+json": {
       "model_id": "e7ab55f9d5d44a42938b53e18ee4b857",
       "version_major": 2,
       "version_minor": 0
      },
      "text/plain": [
       "HBox(children=(IntProgress(value=0, max=299), HTML(value='')))"
      ]
     },
     "metadata": {},
     "output_type": "display_data"
    },
    {
     "name": "stdout",
     "output_type": "stream",
     "text": [
      "\n"
     ]
    },
    {
     "ename": "KeyboardInterrupt",
     "evalue": "",
     "output_type": "error",
     "traceback": [
      "\u001b[0;31m---------------------------------------------------------------------------\u001b[0m",
      "\u001b[0;31mKeyboardInterrupt\u001b[0m                         Traceback (most recent call last)",
      "\u001b[0;32m<ipython-input-3-333e672883e7>\u001b[0m in \u001b[0;36m<module>\u001b[0;34m()\u001b[0m\n\u001b[0;32m----> 1\u001b[0;31m \u001b[0mcalib\u001b[0m\u001b[0;34m.\u001b[0m\u001b[0mstereo_calibration_separately\u001b[0m\u001b[0;34m(\u001b[0m\u001b[0;34m)\u001b[0m\u001b[0;34m\u001b[0m\u001b[0;34m\u001b[0m\u001b[0m\n\u001b[0m",
      "\u001b[0;32m<ipython-input-1-eed583dc795d>\u001b[0m in \u001b[0;36mstereo_calibration_separately\u001b[0;34m(self)\u001b[0m\n\u001b[1;32m    140\u001b[0m \u001b[0;34m\u001b[0m\u001b[0m\n\u001b[1;32m    141\u001b[0m     \u001b[0;32mdef\u001b[0m \u001b[0mstereo_calibration_separately\u001b[0m\u001b[0;34m(\u001b[0m\u001b[0mself\u001b[0m\u001b[0;34m)\u001b[0m\u001b[0;34m:\u001b[0m\u001b[0;34m\u001b[0m\u001b[0;34m\u001b[0m\u001b[0m\n\u001b[0;32m--> 142\u001b[0;31m         \u001b[0mself\u001b[0m\u001b[0;34m.\u001b[0m\u001b[0mcalibrovka_left\u001b[0m\u001b[0;34m.\u001b[0m\u001b[0mcalibration_cam\u001b[0m\u001b[0;34m(\u001b[0m\u001b[0;34m)\u001b[0m\u001b[0;34m\u001b[0m\u001b[0;34m\u001b[0m\u001b[0m\n\u001b[0m\u001b[1;32m    143\u001b[0m         \u001b[0mself\u001b[0m\u001b[0;34m.\u001b[0m\u001b[0mcalibrovka_right\u001b[0m\u001b[0;34m.\u001b[0m\u001b[0mcalibration_cam\u001b[0m\u001b[0;34m(\u001b[0m\u001b[0;34m)\u001b[0m\u001b[0;34m\u001b[0m\u001b[0;34m\u001b[0m\u001b[0m\n\u001b[1;32m    144\u001b[0m \u001b[0;34m\u001b[0m\u001b[0m\n",
      "\u001b[0;32m<ipython-input-1-eed583dc795d>\u001b[0m in \u001b[0;36mcalibration_cam\u001b[0;34m(self)\u001b[0m\n\u001b[1;32m    106\u001b[0m \u001b[0;34m\u001b[0m\u001b[0m\n\u001b[1;32m    107\u001b[0m     \u001b[0;32mdef\u001b[0m \u001b[0mcalibration_cam\u001b[0m\u001b[0;34m(\u001b[0m\u001b[0mself\u001b[0m\u001b[0;34m)\u001b[0m\u001b[0;34m:\u001b[0m\u001b[0;34m\u001b[0m\u001b[0;34m\u001b[0m\u001b[0m\n\u001b[0;32m--> 108\u001b[0;31m         \u001b[0mself\u001b[0m\u001b[0;34m.\u001b[0m\u001b[0mcalibration_\u001b[0m\u001b[0;34m(\u001b[0m\u001b[0;34m)\u001b[0m\u001b[0;34m\u001b[0m\u001b[0;34m\u001b[0m\u001b[0m\n\u001b[0m\u001b[1;32m    109\u001b[0m         \u001b[0mself\u001b[0m\u001b[0;34m.\u001b[0m\u001b[0msave_params\u001b[0m\u001b[0;34m(\u001b[0m\u001b[0;34m)\u001b[0m\u001b[0;34m\u001b[0m\u001b[0;34m\u001b[0m\u001b[0m\n\u001b[1;32m    110\u001b[0m         print(\"There were only images: \" + str(self.count) + \"\\n\" + \"There were a total of images found: \" + str(\n",
      "\u001b[0;32m<ipython-input-1-eed583dc795d>\u001b[0m in \u001b[0;36mcalibration_\u001b[0;34m(self)\u001b[0m\n\u001b[1;32m     99\u001b[0m                                                                                   \u001b[0mimg_points\u001b[0m\u001b[0;34m,\u001b[0m\u001b[0;34m\u001b[0m\u001b[0;34m\u001b[0m\u001b[0m\n\u001b[1;32m    100\u001b[0m                                                                                   \u001b[0mgray_image\u001b[0m\u001b[0;34m.\u001b[0m\u001b[0mshape\u001b[0m\u001b[0;34m[\u001b[0m\u001b[0;34m:\u001b[0m\u001b[0;34m:\u001b[0m\u001b[0;34m-\u001b[0m\u001b[0;36m1\u001b[0m\u001b[0;34m]\u001b[0m\u001b[0;34m,\u001b[0m\u001b[0;34m\u001b[0m\u001b[0;34m\u001b[0m\u001b[0m\n\u001b[0;32m--> 101\u001b[0;31m                                                                                   None, None)\n\u001b[0m\u001b[1;32m    102\u001b[0m         \u001b[0mself\u001b[0m\u001b[0;34m.\u001b[0m\u001b[0mobj_points\u001b[0m \u001b[0;34m=\u001b[0m \u001b[0mobj_points\u001b[0m\u001b[0;34m\u001b[0m\u001b[0;34m\u001b[0m\u001b[0m\n\u001b[1;32m    103\u001b[0m         \u001b[0mself\u001b[0m\u001b[0;34m.\u001b[0m\u001b[0mimg_points\u001b[0m \u001b[0;34m=\u001b[0m \u001b[0mimg_points\u001b[0m\u001b[0;34m\u001b[0m\u001b[0;34m\u001b[0m\u001b[0m\n",
      "\u001b[0;31mKeyboardInterrupt\u001b[0m: "
     ]
    }
   ],
   "source": [
    "calib.stereo_calibration_separately()"
   ]
  },
  {
   "cell_type": "code",
   "execution_count": null,
   "metadata": {},
   "outputs": [
    {
     "name": "stdout",
     "output_type": "stream",
     "text": [
      "Calibration ...\n",
      "camera: 25791059\n"
     ]
    },
    {
     "data": {
      "application/vnd.jupyter.widget-view+json": {
       "model_id": "79e5cd94b15047a4a4c1745cdbcfe1d2",
       "version_major": 2,
       "version_minor": 0
      },
      "text/plain": [
       "HBox(children=(IntProgress(value=0, max=299), HTML(value='')))"
      ]
     },
     "metadata": {},
     "output_type": "display_data"
    },
    {
     "name": "stdout",
     "output_type": "stream",
     "text": [
      "\n"
     ]
    }
   ],
   "source": [
    "calib.calibrovka_right.calibration_cam()"
   ]
  },
  {
   "cell_type": "code",
   "execution_count": null,
   "metadata": {},
   "outputs": [],
   "source": [
    "calib.calibrovka_left.calibration_cam()"
   ]
  },
  {
   "cell_type": "code",
   "execution_count": null,
   "metadata": {},
   "outputs": [],
   "source": [
    "image = cv2.imread('./calibration_images/new/25797059/261.png')\n",
    "gray_image = cv2.cvtColor(image, cv2.COLOR_BGR2GRAY)"
   ]
  },
  {
   "cell_type": "code",
   "execution_count": null,
   "metadata": {},
   "outputs": [],
   "source": [
    "glob.glob(calib.calibrovka_left.line_to_images_new)"
   ]
  },
  {
   "cell_type": "code",
   "execution_count": null,
   "metadata": {},
   "outputs": [],
   "source": []
  }
 ],
 "metadata": {
  "kernelspec": {
   "display_name": "Python 3",
   "language": "python",
   "name": "python3"
  },
  "language_info": {
   "codemirror_mode": {
    "name": "ipython",
    "version": 3
   },
   "file_extension": ".py",
   "mimetype": "text/x-python",
   "name": "python",
   "nbconvert_exporter": "python",
   "pygments_lexer": "ipython3",
   "version": "3.6.8"
  }
 },
 "nbformat": 4,
 "nbformat_minor": 2
}
