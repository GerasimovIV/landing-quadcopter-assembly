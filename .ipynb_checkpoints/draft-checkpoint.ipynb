{
 "cells": [
  {
   "cell_type": "code",
   "execution_count": 1,
   "metadata": {},
   "outputs": [],
   "source": [
    "import numpy as np"
   ]
  },
  {
   "cell_type": "code",
   "execution_count": 2,
   "metadata": {},
   "outputs": [],
   "source": [
    "from math import sin, cos, pi\n",
    "al = pi\n",
    "si = sin(al)\n",
    "co = cos(al)\n",
    "Mx = np.array([[1, 0, 0],\n",
    "               [0, co, -si],\n",
    "               [0, si, co]]).astype(np.float32)\n",
    "\n",
    "My = np.array([[co, 0, si],\n",
    "               [0, 1, 0],\n",
    "               [-si, 0, co]]).astype(np.float32)\n",
    "\n",
    "Mz = np.array([[co, -si, 0],\n",
    "               [si, co, 0],\n",
    "               [0, 0, 1]]).astype(np.float32)"
   ]
  },
  {
   "cell_type": "code",
   "execution_count": 3,
   "metadata": {},
   "outputs": [],
   "source": [
    "%run reconstruct3D.py\n",
    "\n",
    "map = reconstructed3D(ret = np.load('./calibration/camera_params/ret.npy'),\n",
    "                      K = np.load('./calibration/camera_params/K.npy'),\n",
    "                      dist = np.load('./calibration/camera_params/dist.npy'),\n",
    "                      focal_length = np.load('./calibration/camera_params/FocalLength.npy'),\n",
    "                      output_file = 'reconstruct1.ply')\n",
    "map.load_images('Left3_.jpg','Right3_.jpg')\n",
    "map.see_everything()\n",
    "map.add_to_data()"
   ]
  },
  {
   "cell_type": "code",
   "execution_count": 4,
   "metadata": {},
   "outputs": [],
   "source": [
    "#map.write_output_data()"
   ]
  },
  {
   "cell_type": "code",
   "execution_count": 5,
   "metadata": {},
   "outputs": [],
   "source": [
    "map.load_images('Left3.jpg','Right3.jpg')\n",
    "map.see_everything()\n",
    "#map.add_to_data5()"
   ]
  },
  {
   "cell_type": "code",
   "execution_count": 6,
   "metadata": {},
   "outputs": [
    {
     "data": {
      "text/plain": [
       "55759"
      ]
     },
     "execution_count": 6,
     "metadata": {},
     "output_type": "execute_result"
    }
   ],
   "source": [
    "len(map.cur_map_colors)"
   ]
  },
  {
   "cell_type": "code",
   "execution_count": 7,
   "metadata": {},
   "outputs": [
    {
     "data": {
      "text/plain": [
       "55759"
      ]
     },
     "execution_count": 7,
     "metadata": {},
     "output_type": "execute_result"
    }
   ],
   "source": [
    "len(map.cur_map_points)"
   ]
  },
  {
   "cell_type": "code",
   "execution_count": 8,
   "metadata": {},
   "outputs": [
    {
     "data": {
      "text/plain": [
       "59148"
      ]
     },
     "execution_count": 8,
     "metadata": {},
     "output_type": "execute_result"
    }
   ],
   "source": [
    "len(map.data_map_colors)"
   ]
  },
  {
   "cell_type": "code",
   "execution_count": 9,
   "metadata": {},
   "outputs": [
    {
     "data": {
      "text/plain": [
       "59148"
      ]
     },
     "execution_count": 9,
     "metadata": {},
     "output_type": "execute_result"
    }
   ],
   "source": [
    "len(map.data_map_points)"
   ]
  },
  {
   "cell_type": "code",
   "execution_count": 10,
   "metadata": {},
   "outputs": [],
   "source": [
    "#######################################################################"
   ]
  },
  {
   "cell_type": "code",
   "execution_count": 11,
   "metadata": {},
   "outputs": [],
   "source": [
    "%run pinhole_camera_and_VO.py\n",
    "\n",
    "##setup link with database and camera\n",
    "#5img_dir = 'dataset/images/'\n",
    "#https://docs.opencv.org/2.4/modules/calib3d/doc/camera_calibration_and_3d_reconstruction.html\n",
    "K = np.load('./calibration/camera_params/K.npy')\n",
    "d = np.load('./calibration/camera_params/dist.npy')\n",
    "cam = PinholeCamera(2592.0, 1944.0, K[0][0], K[1][1], K[0][2], K[1][2], d, K)"
   ]
  },
  {
   "cell_type": "code",
   "execution_count": null,
   "metadata": {},
   "outputs": [],
   "source": []
  },
  {
   "cell_type": "code",
   "execution_count": 12,
   "metadata": {},
   "outputs": [],
   "source": [
    "vo = VisualOdometry(cam)\n",
    "traj = np.zeros((600,600,3), dtype=np.uint8)\n",
    "predicted, actual = [],[]\n",
    "img = cv2.imread('Left3_.jpg', 0)\n",
    "vo.update(img)"
   ]
  },
  {
   "cell_type": "code",
   "execution_count": 13,
   "metadata": {},
   "outputs": [],
   "source": [
    "img = cv2.imread('Left3.jpg', 0)\n",
    "vo.update(img)"
   ]
  },
  {
   "cell_type": "code",
   "execution_count": 14,
   "metadata": {},
   "outputs": [],
   "source": [
    "#vo.triangulatePoints(vo.cur_R, vo.cur_t)"
   ]
  },
  {
   "cell_type": "code",
   "execution_count": 15,
   "metadata": {},
   "outputs": [],
   "source": [
    "#map.cur_map_points = vo.triangulatePoints(vo.cur_R, vo.cur_t)\n",
    "#map.add_to_data()"
   ]
  },
  {
   "cell_type": "code",
   "execution_count": 16,
   "metadata": {},
   "outputs": [],
   "source": [
    "R = vo.cur_R"
   ]
  },
  {
   "cell_type": "code",
   "execution_count": null,
   "metadata": {},
   "outputs": [],
   "source": []
  },
  {
   "cell_type": "code",
   "execution_count": 17,
   "metadata": {},
   "outputs": [],
   "source": [
    "t = vo.cur_t"
   ]
  },
  {
   "cell_type": "code",
   "execution_count": 18,
   "metadata": {},
   "outputs": [],
   "source": [
    "a = map.cur_map_points\n",
    "I = a.dot(R)\n",
    "#T = np.zeros(len(a))\n",
    "#T = np.array([[t[0][0], t[1][0], t[2][0]] for i in T])\n",
    "I += np.multiply(t, np.ones(a.shape[0])).T\n",
    "#T = np.zeros(len(a))\n",
    "#T = np.array([[t[0][0], t[1][0], t[2][0]] for i in T])\n",
    "#I = a - T\n",
    "#I = I.dot(R.transpose())"
   ]
  },
  {
   "cell_type": "code",
   "execution_count": 19,
   "metadata": {},
   "outputs": [],
   "source": [
    "map.cur_map_points = I"
   ]
  },
  {
   "cell_type": "code",
   "execution_count": 20,
   "metadata": {},
   "outputs": [],
   "source": [
    "map.add_to_data()"
   ]
  },
  {
   "cell_type": "code",
   "execution_count": 21,
   "metadata": {},
   "outputs": [],
   "source": [
    "map.output_file = 'plus.ply'"
   ]
  },
  {
   "cell_type": "code",
   "execution_count": 22,
   "metadata": {},
   "outputs": [],
   "source": [
    "map.write_output_data()"
   ]
  },
  {
   "cell_type": "code",
   "execution_count": null,
   "metadata": {},
   "outputs": [],
   "source": []
  }
 ],
 "metadata": {
  "kernelspec": {
   "display_name": "Python 3",
   "language": "python",
   "name": "python3"
  },
  "language_info": {
   "codemirror_mode": {
    "name": "ipython",
    "version": 3
   },
   "file_extension": ".py",
   "mimetype": "text/x-python",
   "name": "python",
   "nbconvert_exporter": "python",
   "pygments_lexer": "ipython3",
   "version": "3.6.8"
  }
 },
 "nbformat": 4,
 "nbformat_minor": 2
}
