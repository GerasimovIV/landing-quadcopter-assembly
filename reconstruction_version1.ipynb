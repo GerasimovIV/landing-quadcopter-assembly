{
 "cells": [
  {
   "cell_type": "code",
   "execution_count": 1,
   "metadata": {},
   "outputs": [],
   "source": [
    "import cv2\n",
    "import numpy as np \n",
    "import glob\n",
    "from tqdm import tqdm\n",
    "import PIL.ExifTags\n",
    "import PIL.Image\n",
    "from matplotlib import pyplot as plt "
   ]
  },
  {
   "cell_type": "code",
   "execution_count": 2,
   "metadata": {},
   "outputs": [],
   "source": [
    "#=====================================\n",
    "# Function declarations\n",
    "#=====================================\n",
    "\n",
    "#Function to create point cloud file\n",
    "def create_output(vertices, colors, filename):\n",
    "    colors = colors.reshape(-1,3)\n",
    "    vertices = np.hstack([vertices.reshape(-1,3),colors])\n",
    "\n",
    "    ply_header = '''ply\n",
    "        format ascii 1.0\n",
    "        element vertex %(vert_num)d\n",
    "        property float x\n",
    "        property float y\n",
    "        property float z\n",
    "        property uchar red\n",
    "        property uchar green\n",
    "        property uchar blue\n",
    "        end_header\n",
    "        '''\n",
    "    with open(filename, 'w') as f:\n",
    "        f.write(ply_header %dict(vert_num=len(vertices)))\n",
    "        np.savetxt(f,vertices,'%f %f %f %d %d %d')\n",
    "\n",
    "#Function that Downsamples image x number (reduce_factor) of times. \n",
    "def downsample_image(image, reduce_factor):\n",
    "    for i in range(0,reduce_factor):\n",
    "        #Check if image is color or grayscale\n",
    "        if len(image.shape) > 2:\n",
    "            row,col = image.shape[:2]\n",
    "        else:\n",
    "            row,col = image.shape\n",
    "\n",
    "        image = cv2.pyrDown(image, dstsize= (col//2, row // 2))\n",
    "    return image\n"
   ]
  },
  {
   "cell_type": "code",
   "execution_count": 3,
   "metadata": {},
   "outputs": [
    {
     "name": "stdout",
     "output_type": "stream",
     "text": [
      "\n",
      "Computing the disparity  map...\n"
     ]
    },
    {
     "data": {
      "image/png": "[encoded data removed]",
      "text/plain": [
       "<Figure size 432x288 with 1 Axes>"
      ]
     },
     "metadata": {
      "needs_background": "light"
     },
     "output_type": "display_data"
    },
    {
     "name": "stdout",
     "output_type": "stream",
     "text": [
      "\n",
      "Generating the 3D map...\n",
      "\n",
      " Creating the output file... \n",
      "\n"
     ]
    }
   ],
   "source": [
    "\n",
    "\n",
    "#=========================================================\n",
    "# Stereo 3D reconstruction \n",
    "#=========================================================\n",
    "\n",
    "#Load camera parameters\n",
    "ret = np.load('./calibration/camera_params/ret.npy')\n",
    "K = np.load('./calibration/camera_params/K.npy')\n",
    "dist = np.load('./calibration/camera_params/dist.npy')\n",
    "\n",
    "#Specify image paths\n",
    "img_path1 = 'Left.jpg'\n",
    "img_path2 = 'Right.jpg'\n",
    "\n",
    "#Load pictures\n",
    "img_1 = cv2.imread(img_path1)\n",
    "img_2 = cv2.imread(img_path2)\n",
    "\n",
    "#Get height and width. Note: It assumes that both pictures are the same size. They HAVE to be same size and height. \n",
    "h,w = img_2.shape[:2]\n",
    "\n",
    "#Get optimal camera matrix for better undistortion \n",
    "new_camera_matrix, roi = cv2.getOptimalNewCameraMatrix(K,dist,(w,h),1,(w,h))\n",
    "\n",
    "#Undistort images\n",
    "img_1_undistorted = cv2.undistort(img_1, K, dist, None, new_camera_matrix)\n",
    "img_2_undistorted = cv2.undistort(img_2, K, dist, None, new_camera_matrix)\n",
    "\n",
    "#Downsample each image 3 times (because they're too big)\n",
    "img_1_downsampled = downsample_image(img_1_undistorted,3)\n",
    "img_2_downsampled = downsample_image(img_2_undistorted,3)\n",
    "\n",
    "#cv2.imwrite('undistorted_left.jpg', img_1_downsampled)\n",
    "#cv2.imwrite('undistorted_right.jpg', img_2_downsampled)\n",
    "\n",
    "\n",
    "#Set disparity parameters\n",
    "#Note: disparity range is tuned according to specific parameters obtained through trial and error. \n",
    "win_size = 5\n",
    "min_disp = -1\n",
    "max_disp = 63 #min_disp * 9\n",
    "num_disp = max_disp - min_disp # Needs to be divisible by 16\n",
    "\n",
    "#Create Block matching object. \n",
    "stereo = cv2.StereoSGBM_create(minDisparity= min_disp,\n",
    "    numDisparities = num_disp,\n",
    "    blockSize = 5,\n",
    "    uniquenessRatio = 5,\n",
    "    speckleWindowSize = 5,\n",
    "    speckleRange = 5,\n",
    "    disp12MaxDiff = 2,\n",
    "    P1 = 8*3*win_size**2,#8*3*win_size**2,\n",
    "    P2 =32*3*win_size**2) #32*3*win_size**2)\n",
    "\n",
    "#Compute disparity map\n",
    "print (\"\\nComputing the disparity  map...\")\n",
    "disparity_map = stereo.compute(img_1_downsampled, img_2_downsampled)\n",
    "\n",
    "#Show disparity map before generating 3D cloud to verify that point cloud will be usable. \n",
    "plt.imshow(disparity_map,'gray')\n",
    "plt.show()\n",
    "\n",
    "#Generate  point cloud. \n",
    "print (\"\\nGenerating the 3D map...\")\n",
    "\n",
    "#Get new downsampled width and height \n",
    "h,w = img_2_downsampled.shape[:2]\n",
    "\n",
    "#Load focal length. \n",
    "focal_length = np.load('./calibration/camera_params/FocalLength.npy')\n",
    "\n",
    "#Perspective transformation matrix\n",
    "#This transformation matrix is from the openCV documentation, didn't seem to work for me. \n",
    "Q = np.float32([[1,0,0,-w/2.0],\n",
    "                [0,-1,0,h/2.0],\n",
    "                [0,0,0,-focal_length],\n",
    "                [0,0,1,0]])\n",
    "\n",
    "#This transformation matrix is derived from Prof. Didier Stricker's power point presentation on computer vision. \n",
    "#Link : https://ags.cs.uni-kl.de/fileadmin/inf_ags/3dcv-ws14-15/3DCV_lec01_camera.pdf\n",
    "Q2 = np.float32([[1,0,0,0],\n",
    "                [0,-1,0,0],\n",
    "                [0,0,focal_length*0.05,0], #Focal length multiplication obtained experimentally. \n",
    "                [0,0,0,1]])\n",
    "\n",
    "#Reproject points into 3D\n",
    "points_3D = cv2.reprojectImageTo3D(disparity_map, Q2)\n",
    "#Get color points\n",
    "colors = cv2.cvtColor(img_1_downsampled, cv2.COLOR_BGR2RGB)\n",
    "\n",
    "#Get rid of points with value 0 (i.e no depth)\n",
    "mask_map = disparity_map > disparity_map.min()\n",
    "\n",
    "#Mask colors and points. \n",
    "output_points = points_3D[mask_map]\n",
    "output_colors = colors[mask_map]\n",
    "\n",
    "#Define name for output file\n",
    "output_file = 'reconstructed.ply'\n",
    "\n",
    "#Generate point cloud \n",
    "print (\"\\n Creating the output file... \\n\")\n",
    "create_output(output_points, output_colors, output_file)"
   ]
  },
  {
   "cell_type": "code",
   "execution_count": 4,
   "metadata": {},
   "outputs": [
    {
     "data": {
      "text/plain": [
       "array([[False, False, False, ...,  True,  True, False],\n",
       "       [False, False, False, ...,  True,  True, False],\n",
       "       [False, False, False, ...,  True,  True, False],\n",
       "       ...,\n",
       "       [False, False, False, ...,  True,  True, False],\n",
       "       [False, False, False, ...,  True,  True, False],\n",
       "       [False, False, False, ...,  True,  True, False]])"
      ]
     },
     "execution_count": 4,
     "metadata": {},
     "output_type": "execute_result"
    }
   ],
   "source": [
    "mask_map"
   ]
  },
  {
   "cell_type": "code",
   "execution_count": 16,
   "metadata": {},
   "outputs": [],
   "source": [
    "output_points = np.append(output_points, [1, 0, 0])\n",
    "output_colors =np.append(output_colors, [255, 0, 0])"
   ]
  },
  {
   "cell_type": "code",
   "execution_count": 18,
   "metadata": {},
   "outputs": [],
   "source": [
    "output_points = np.append(output_points, [0, 1, 0])\n",
    "output_colors =np.append(output_colors, [0, 255, 0])\n",
    "output_points = np.append(output_points, [0, 0, 1])\n",
    "output_colors =np.append(output_colors, [0, 0, 255])"
   ]
  },
  {
   "cell_type": "code",
   "execution_count": 19,
   "metadata": {},
   "outputs": [],
   "source": [
    "create_output(output_points, output_colors, output_file)"
   ]
  },
  {
   "cell_type": "code",
   "execution_count": 15,
   "metadata": {},
   "outputs": [
    {
     "data": {
      "text/plain": [
       "array([[  63.   ,    0.   ,    0.   ],\n",
       "       [  64.   ,    0.   ,    0.   ],\n",
       "       [  65.   ,    0.   ,    0.   ],\n",
       "       ...,\n",
       "       [ 317.   , -242.   ,    0.   ],\n",
       "       [ 321.   , -242.   ,    0.798],\n",
       "       [ 322.   , -242.   ,    0.798]], dtype=float32)"
      ]
     },
     "execution_count": 15,
     "metadata": {},
     "output_type": "execute_result"
    }
   ],
   "source": [
    "output_points"
   ]
  },
  {
   "cell_type": "code",
   "execution_count": 20,
   "metadata": {},
   "outputs": [
    {
     "data": {
      "text/plain": [
       "array([[-0.07507594, -0.30935397, -0.00151216,  0.00269098,  0.14577352]])"
      ]
     },
     "execution_count": 20,
     "metadata": {},
     "output_type": "execute_result"
    }
   ],
   "source": [
    "dist"
   ]
  },
  {
   "cell_type": "code",
   "execution_count": null,
   "metadata": {},
   "outputs": [],
   "source": []
  }
 ],
 "metadata": {
  "kernelspec": {
   "display_name": "Python 3",
   "language": "python",
   "name": "python3"
  },
  "language_info": {
   "codemirror_mode": {
    "name": "ipython",
    "version": 3
   },
   "file_extension": ".py",
   "mimetype": "text/x-python",
   "name": "python",
   "nbconvert_exporter": "python",
   "pygments_lexer": "ipython3",
   "version": "3.6.8"
  }
 },
 "nbformat": 4,
 "nbformat_minor": 2
}
