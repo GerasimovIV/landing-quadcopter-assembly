{
 "cells": [
  {
   "cell_type": "code",
   "execution_count": 1,
   "metadata": {},
   "outputs": [],
   "source": [
    "import numpy as np"
   ]
  },
  {
   "cell_type": "code",
   "execution_count": 2,
   "metadata": {},
   "outputs": [],
   "source": [
    "from math import sin, cos, pi\n",
    "\n",
    "def Givens_3G(angle, axis=0):\n",
    "    assert axis in range(3)\n",
    "    si = sin(angle)\n",
    "    co = cos(angle)\n",
    "    if not axis:\n",
    "        return np.array([[1, 0, 0],\n",
    "                         [0, co, -si],\n",
    "                         [0, si, co]]).astype(np.float32)\n",
    "    elif axis == 1:\n",
    "        return np.array([[co, 0, si],\n",
    "                         [0, 1, 0],\n",
    "                         [-si, 0, co]]).astype(np.float32)\n",
    "    else:\n",
    "        return np.array([[co, -si, 0],\n",
    "                         [si, co, 0],\n",
    "                         [0, 0, 1]]).astype(np.float32)\n",
    "\n",
    "\n",
    "Mx = Givens_3G(pi, axis=0)\n",
    "\n",
    "My = Givens_3G(pi, axis=1)\n",
    "\n",
    "Mz = Givens_3G(-pi, axis=2)"
   ]
  },
  {
   "cell_type": "code",
   "execution_count": 3,
   "metadata": {},
   "outputs": [],
   "source": [
    "%run reconstruct3D.py\n",
    "\n",
    "mapp = reconstructed3D(ret = np.load('./calibration/camera_params/ret.npy'),\n",
    "                      K = np.load('./calibration/camera_params/K.npy'),\n",
    "                      dist = np.load('./calibration/camera_params/dist.npy'),\n",
    "                      focal_length = np.load('./calibration/camera_params/FocalLength.npy'),\n",
    "                      output_file = 'reconstruct1.ply')\n",
    "mapp.load_images('Left3_.jpg','Right3_.jpg')\n",
    "mapp.see_everything()\n",
    "mapp.add_to_data()"
   ]
  },
  {
   "cell_type": "code",
   "execution_count": 4,
   "metadata": {},
   "outputs": [],
   "source": [
    "#map.write_output_data()"
   ]
  },
  {
   "cell_type": "code",
   "execution_count": 5,
   "metadata": {},
   "outputs": [],
   "source": [
    "mapp.load_images('Left3.jpg','Right3.jpg')\n",
    "mapp.see_everything()\n",
    "#map.add_to_data5()"
   ]
  },
  {
   "cell_type": "code",
   "execution_count": 6,
   "metadata": {},
   "outputs": [
    {
     "data": {
      "text/plain": [
       "55759"
      ]
     },
     "execution_count": 6,
     "metadata": {},
     "output_type": "execute_result"
    }
   ],
   "source": [
    "len(mapp.cur_map_colors)"
   ]
  },
  {
   "cell_type": "code",
   "execution_count": 7,
   "metadata": {},
   "outputs": [
    {
     "data": {
      "text/plain": [
       "55759"
      ]
     },
     "execution_count": 7,
     "metadata": {},
     "output_type": "execute_result"
    }
   ],
   "source": [
    "len(mapp.cur_map_points)"
   ]
  },
  {
   "cell_type": "code",
   "execution_count": 8,
   "metadata": {},
   "outputs": [
    {
     "data": {
      "text/plain": [
       "51992"
      ]
     },
     "execution_count": 8,
     "metadata": {},
     "output_type": "execute_result"
    }
   ],
   "source": [
    "len(mapp.data_map_colors)"
   ]
  },
  {
   "cell_type": "code",
   "execution_count": 9,
   "metadata": {},
   "outputs": [
    {
     "data": {
      "text/plain": [
       "51992"
      ]
     },
     "execution_count": 9,
     "metadata": {},
     "output_type": "execute_result"
    }
   ],
   "source": [
    "len(mapp.data_map_points)"
   ]
  },
  {
   "cell_type": "code",
   "execution_count": 10,
   "metadata": {},
   "outputs": [],
   "source": [
    "#######################################################################"
   ]
  },
  {
   "cell_type": "code",
   "execution_count": 11,
   "metadata": {},
   "outputs": [],
   "source": [
    "%run pinhole_camera_and_VO.py\n",
    "\n",
    "##setup link with database and camera\n",
    "#5img_dir = 'dataset/images/'\n",
    "#https://docs.opencv.org/2.4/modules/calib3d/doc/camera_calibration_and_3d_reconstruction.html\n",
    "K = np.load('./calibration/camera_params/K.npy')\n",
    "d = np.load('./calibration/camera_params/dist.npy')\n",
    "cam = PinholeCamera(2592.0, 1944.0, K[0][0], K[1][1], K[0][2], K[1][2], d, K)"
   ]
  },
  {
   "cell_type": "code",
   "execution_count": null,
   "metadata": {},
   "outputs": [],
   "source": []
  },
  {
   "cell_type": "code",
   "execution_count": 12,
   "metadata": {},
   "outputs": [],
   "source": [
    "vo = VisualOdometry(cam)\n",
    "traj = np.zeros((600,600,3), dtype=np.uint8)\n",
    "predicted, actual = [],[]\n",
    "img = cv2.imread('Left3_.jpg', 0)\n",
    "vo.update(img)"
   ]
  },
  {
   "cell_type": "code",
   "execution_count": 13,
   "metadata": {},
   "outputs": [],
   "source": [
    "img = cv2.imread('Left3.jpg', 0)\n",
    "vo.update(img)"
   ]
  },
  {
   "cell_type": "code",
   "execution_count": 14,
   "metadata": {},
   "outputs": [],
   "source": [
    "#vo.triangulatePoints(vo.cur_R, vo.cur_t)"
   ]
  },
  {
   "cell_type": "code",
   "execution_count": 15,
   "metadata": {},
   "outputs": [],
   "source": [
    "#map.cur_map_points = vo.triangulatePoints(vo.cur_R, vo.cur_t)\n",
    "#map.add_to_data()"
   ]
  },
  {
   "cell_type": "code",
   "execution_count": 16,
   "metadata": {},
   "outputs": [],
   "source": [
    "R = vo.cur_R"
   ]
  },
  {
   "cell_type": "code",
   "execution_count": 17,
   "metadata": {},
   "outputs": [],
   "source": [
    "\n",
    "#R = Mx.dot(R)\n",
    "#R = Mz.dot(R)"
   ]
  },
  {
   "cell_type": "code",
   "execution_count": 18,
   "metadata": {},
   "outputs": [],
   "source": [
    "#R = My.dot(R)"
   ]
  },
  {
   "cell_type": "code",
   "execution_count": 19,
   "metadata": {},
   "outputs": [],
   "source": [
    "t = vo.cur_t"
   ]
  },
  {
   "cell_type": "code",
   "execution_count": 20,
   "metadata": {},
   "outputs": [],
   "source": [
    "a = mapp.cur_map_points\n",
    "I = a.dot(R)\n",
    "#T = np.zeros(len(a))\n",
    "#T = np.array([[t[0][0], t[1][0], t[2][0]] for i in T])\n",
    "I += np.multiply(t, np.ones(a.shape[0])).T\n",
    "#T = np.zeros(len(a))\n",
    "#T = np.array([[t[0][0], t[1][0], t[2][0]] for i in T])\n",
    "#I = a - T\n",
    "#I = I.dot(R.transpose())"
   ]
  },
  {
   "cell_type": "code",
   "execution_count": 21,
   "metadata": {},
   "outputs": [],
   "source": [
    "mapp.cur_map_points = I"
   ]
  },
  {
   "cell_type": "code",
   "execution_count": 22,
   "metadata": {},
   "outputs": [],
   "source": [
    "mapp.add_to_data()"
   ]
  },
  {
   "cell_type": "code",
   "execution_count": 23,
   "metadata": {},
   "outputs": [],
   "source": [
    "mapp.output_file = 'plus.ply'"
   ]
  },
  {
   "cell_type": "code",
   "execution_count": 24,
   "metadata": {},
   "outputs": [],
   "source": [
    "ox_p = np.array([[i, 0, 0] for i in range(50)])\n",
    "oy_p = np.array([[0, i, 0] for i in range(50)])\n",
    "oz_p = np.array([[0, 0, i] for i in range(50)])\n",
    "ox_c = np.array([[255, 0, 0] for i in range(50)])\n",
    "oy_c = np.array([[0, 255, 0] for i in range(50)])\n",
    "oz_c = np.array([[0, 0, 255] for i in range(50)])\n",
    "axis_p = np.concatenate((ox_p, oy_p, oz_p))\n",
    "axis_c = np.concatenate((ox_c, oy_c, oz_c))\n",
    "mapp.add_to_data_this(axis_p, axis_c)"
   ]
  },
  {
   "cell_type": "code",
   "execution_count": 25,
   "metadata": {},
   "outputs": [],
   "source": [
    "mapp.write_output_data()"
   ]
  },
  {
   "cell_type": "code",
   "execution_count": 26,
   "metadata": {},
   "outputs": [
    {
     "data": {
      "text/plain": [
       "array([[2.67212388e+03, 0.00000000e+00, 1.33050806e+03],\n",
       "       [0.00000000e+00, 2.66647345e+03, 9.60770921e+02],\n",
       "       [0.00000000e+00, 0.00000000e+00, 1.00000000e+00]])"
      ]
     },
     "execution_count": 26,
     "metadata": {},
     "output_type": "execute_result"
    }
   ],
   "source": [
    "K"
   ]
  },
  {
   "cell_type": "code",
   "execution_count": null,
   "metadata": {},
   "outputs": [],
   "source": []
  },
  {
   "cell_type": "code",
   "execution_count": null,
   "metadata": {},
   "outputs": [],
   "source": [
    "#=================================================="
   ]
  },
  {
   "cell_type": "code",
   "execution_count": null,
   "metadata": {},
   "outputs": [],
   "source": []
  },
  {
   "cell_type": "code",
   "execution_count": null,
   "metadata": {},
   "outputs": [],
   "source": []
  },
  {
   "cell_type": "code",
   "execution_count": null,
   "metadata": {},
   "outputs": [],
   "source": []
  },
  {
   "cell_type": "code",
   "execution_count": null,
   "metadata": {},
   "outputs": [],
   "source": []
  }
 ],
 "metadata": {
  "kernelspec": {
   "display_name": "Python 3",
   "language": "python",
   "name": "python3"
  },
  "language_info": {
   "codemirror_mode": {
    "name": "ipython",
    "version": 3
   },
   "file_extension": ".py",
   "mimetype": "text/x-python",
   "name": "python",
   "nbconvert_exporter": "python",
   "pygments_lexer": "ipython3",
   "version": "3.6.8"
  }
 },
 "nbformat": 4,
 "nbformat_minor": 2
}
