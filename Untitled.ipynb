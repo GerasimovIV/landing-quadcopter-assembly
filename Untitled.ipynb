{
 "cells": [
  {
   "cell_type": "code",
   "execution_count": 1,
   "metadata": {},
   "outputs": [],
   "source": [
    "import cv2\n",
    "import numpy as np \n",
    "import glob\n",
    "from tqdm import tqdm\n",
    "import PIL.ExifTags\n",
    "import PIL.Image\n",
    "from matplotlib import pyplot as plt "
   ]
  },
  {
   "cell_type": "code",
   "execution_count": 2,
   "metadata": {
    "scrolled": true
   },
   "outputs": [],
   "source": [
    "# and projection matrix in the new (rectified) coordinate systems for the second camera.\n",
    "line = './calibration/camera_params/stereo_params/'\n",
    "ret = np.load(line + 'ret.npy')\n",
    "K_left = np.load(line + 'K_left.npy')\n",
    "K_right = np.load(line + 'K_right.npy')\n",
    "dist_left = np.load(line + 'dist_left.npy')\n",
    "dist_right = np.load(line + 'dist_right.npy')\n",
    "R = np.load(line + 'R.npy')\n",
    "T = np.load(line + 'T.npy')\n",
    "image_size = np.load(line + 'image_size.npy')\n",
    "image_size = (image_size[0], image_size[1])\n",
    "\n",
    "R_left, R_right, P_left, P_right, Q, roi_left, roi_right = cv2.stereoRectify(cameraMatrix1 = K_left, \n",
    "                                                  cameraMatrix2 = K_right, \n",
    "                                                  distCoeffs1 = dist_left, \n",
    "                                                  distCoeffs2 = dist_right, \n",
    "                                                  imageSize = image_size, \n",
    "                                                  R = R, \n",
    "                                                  T = T,\n",
    "                                                  alpha=1)"
   ]
  },
  {
   "cell_type": "code",
   "execution_count": 3,
   "metadata": {},
   "outputs": [],
   "source": [
    "map1_left, map2_left = cv2.initUndistortRectifyMap( cameraMatrix = K_left,\n",
    "                                         distCoeffs = dist_left, \n",
    "                                         R = R_left,\n",
    "                                         newCameraMatrix = P_left, \n",
    "                                         size = image_size,\n",
    "                                         m1type = cv2.CV_32FC2)\n",
    "map1_right, map2_right = cv2.initUndistortRectifyMap( cameraMatrix = K_right,\n",
    "                                         distCoeffs = dist_right, \n",
    "                                         R = R_right,\n",
    "                                         newCameraMatrix = P_right, \n",
    "                                         size = image_size,\n",
    "                                         m1type = cv2.CV_32FC2)"
   ]
  },
  {
   "cell_type": "code",
   "execution_count": 4,
   "metadata": {},
   "outputs": [],
   "source": [
    "#Specify image paths\n",
    "img_path1 = './calibration/calibration_images/new/25791059/82.png'\n",
    "img_path2 = './calibration/calibration_images/new/25797059/82.png'\n",
    "\n",
    "#Load pictures\n",
    "img_1 = cv2.imread(img_path1)\n",
    "img_2 = cv2.imread(img_path2)"
   ]
  },
  {
   "cell_type": "code",
   "execution_count": 5,
   "metadata": {},
   "outputs": [],
   "source": [
    "dst_left = cv2.remap(src = img_1,\n",
    "                     map1 = map1_left,\n",
    "                     map2 = map2_left,\n",
    "                     interpolation = cv2.INTER_NEAREST)\n",
    "dst_right = cv2.remap(src = img_2,\n",
    "                     map1 = map1_right,\n",
    "                     map2 = map2_right,\n",
    "                     interpolation = cv2.INTER_NEAREST)"
   ]
  },
  {
   "cell_type": "code",
   "execution_count": 6,
   "metadata": {},
   "outputs": [
    {
     "data": {
      "text/plain": [
       "True"
      ]
     },
     "execution_count": 6,
     "metadata": {},
     "output_type": "execute_result"
    }
   ],
   "source": [
    "\n",
    "#plt.imshow(dst_left)\n",
    "cv2.imwrite('dst_left.png', dst_left)\n",
    "#plt.imshow(dst_right)\n",
    "cv2.imwrite('dst_right.png', dst_right)"
   ]
  },
  {
   "cell_type": "code",
   "execution_count": 40,
   "metadata": {},
   "outputs": [
    {
     "name": "stdout",
     "output_type": "stream",
     "text": [
      "\n",
      " Creating the output file... \n",
      "\n"
     ]
    }
   ],
   "source": [
    "def create_output(vertices, colors, filename):\n",
    "    colors = colors.reshape(-1,3)\n",
    "    vertices = np.hstack([vertices.reshape(-1,3),colors])\n",
    "\n",
    "    ply_header = '''ply\n",
    "        format ascii 1.0\n",
    "        element vertex %(vert_num)d\n",
    "        property float x\n",
    "        property float y\n",
    "        property float z\n",
    "        property uchar red\n",
    "        property uchar green\n",
    "        property uchar blue\n",
    "        end_header\n",
    "        '''\n",
    "    with open(filename, 'w') as f:\n",
    "        f.write(ply_header %dict(vert_num=len(vertices)))\n",
    "        np.savetxt(f,vertices,'%f %f %f %d %d %d')\n",
    "def downsample_image(image, reduce_factor):\n",
    "    for i in range(0,reduce_factor):\n",
    "        #Check if image is color or grayscale\n",
    "        if len(image.shape) > 2:\n",
    "            row,col = image.shape[:2]\n",
    "        else:\n",
    "            row,col = image.shape\n",
    "\n",
    "        image = cv2.pyrDown(image, dstsize= (col//2, row // 2))\n",
    "    return image\n",
    "\n",
    "\n",
    "win_size = 5\n",
    "min_disp = -1\n",
    "max_disp = 63 #min_disp * 9\n",
    "num_disp = max_disp - min_disp # Needs to be divisible by 16\n",
    "stereo = cv2.StereoSGBM_create(minDisparity= 0,\n",
    "    numDisparities = 16,\n",
    "    blockSize = 3,\n",
    "    uniquenessRatio = 0,\n",
    "    speckleWindowSize = 0,\n",
    "    speckleRange = 0,\n",
    "    disp12MaxDiff = 0,\n",
    "    P1 = 0,#8*3*win_size**2,\n",
    "    P2 = 0) #32*3*win_size**2)\n",
    "\n",
    "#Compute disparity map\n",
    "#print (\"\\nComputing the disparity  map...\")\n",
    "dst_left_d = downsample_image(dst_left, 3)\n",
    "dst_right_d = downsample_image(dst_right, 3)\n",
    "disparity_map = stereo.compute(dst_left_d, dst_right_d)\n",
    "\n",
    "\n",
    "\n",
    "focal_length = 8\n",
    "Q2 = np.float32([[1,0,0,0],\n",
    "                [0,-1,0,0],\n",
    "                [0,0,focal_length*0.05,0], #Focal length multiplication obtained experimentally. \n",
    "                [0,0,0,1]])\n",
    "\n",
    "points_3D = cv2.reprojectImageTo3D(disparity_map, Q)\n",
    "#Get color points\n",
    "colors = cv2.cvtColor(dst_left_d, cv2.COLOR_BGR2RGB)\n",
    "\n",
    "#Get rid of points with value 0 (i.e no depth)\n",
    "mask_map = disparity_map > disparity_map.min() #and disparity_map < disparity_map.max()\n",
    "\n",
    "#Mask colors and points. \n",
    "output_points = points_3D[mask_map]\n",
    "output_colors = colors[mask_map]\n",
    "\n",
    "#Define name for output file\n",
    "output_file = 'cotik.ply'\n",
    "\n",
    "\n",
    "ox_p = np.array([[i, 0, 0] for i in range(50)])\n",
    "oy_p = np.array([[0, i, 0] for i in range(50)])\n",
    "oz_p = np.array([[0, 0, i] for i in range(50)])\n",
    "ox_c = np.array([[255, 0, 0] for i in range(50)])\n",
    "oy_c = np.array([[0, 255, 0] for i in range(50)])\n",
    "oz_c = np.array([[0, 0, 255] for i in range(50)])\n",
    "axis_p = np.concatenate((ox_p, oy_p, oz_p))\n",
    "axis_c = np.concatenate((ox_c, oy_c, oz_c))\n",
    "output_points = np.concatenate((output_points, axis_p))\n",
    "output_colors = np.concatenate((output_colors, axis_c))\n",
    "\n",
    "\n",
    "\n",
    "#Generate point cloud \n",
    "print (\"\\n Creating the output file... \\n\")\n",
    "create_output(output_points, output_colors, output_file)"
   ]
  },
  {
   "cell_type": "code",
   "execution_count": 32,
   "metadata": {},
   "outputs": [
    {
     "name": "stdout",
     "output_type": "stream",
     "text": [
      "132\n",
      "133\n",
      "133\n",
      "134\n",
      "145\n",
      "145\n",
      "146\n",
      "147\n",
      "155\n",
      "164\n",
      "165\n",
      "208\n",
      "208\n",
      "209\n",
      "215\n",
      "216\n",
      "217\n",
      "218\n",
      "219\n",
      "220\n",
      "244\n",
      "245\n",
      "246\n",
      "246\n",
      "247\n",
      "247\n",
      "248\n",
      "248\n",
      "249\n",
      "249\n",
      "250\n",
      "251\n",
      "254\n",
      "255\n",
      "256\n",
      "258\n",
      "259\n",
      "259\n",
      "259\n",
      "260\n",
      "260\n",
      "260\n",
      "261\n",
      "261\n",
      "262\n",
      "262\n",
      "263\n",
      "263\n",
      "264\n",
      "265\n",
      "266\n",
      "266\n",
      "267\n",
      "270\n",
      "271\n",
      "271\n",
      "271\n",
      "272\n",
      "272\n",
      "272\n",
      "273\n",
      "273\n",
      "273\n",
      "273\n",
      "274\n",
      "274\n",
      "274\n",
      "274\n",
      "274\n",
      "274\n",
      "275\n",
      "275\n",
      "275\n",
      "275\n",
      "275\n",
      "276\n",
      "276\n",
      "276\n",
      "276\n",
      "276\n",
      "276\n",
      "276\n",
      "277\n",
      "277\n",
      "277\n",
      "277\n",
      "278\n",
      "278\n",
      "278\n",
      "279\n",
      "279\n",
      "279\n",
      "280\n",
      "280\n",
      "281\n",
      "282\n",
      "283\n",
      "284\n",
      "284\n",
      "285\n",
      "285\n",
      "286\n",
      "286\n",
      "288\n",
      "290\n",
      "290\n",
      "291\n",
      "291\n",
      "291\n",
      "292\n",
      "293\n",
      "293\n",
      "294\n",
      "294\n",
      "295\n",
      "295\n",
      "295\n",
      "296\n",
      "296\n",
      "296\n",
      "296\n",
      "297\n",
      "297\n",
      "297\n",
      "298\n",
      "299\n",
      "300\n",
      "300\n",
      "301\n",
      "301\n",
      "302\n",
      "302\n",
      "303\n",
      "303\n",
      "304\n",
      "304\n",
      "304\n",
      "305\n",
      "305\n",
      "306\n",
      "140\n"
     ]
    }
   ],
   "source": [
    "p = 0\n",
    "for i in range(len(points_3D)):\n",
    "    for j in range(len(points_3D[0])):\n",
    "        if points_3D[i][j][0] == -math.inf:\n",
    "            print(i)\n",
    "            p+=1\n",
    "print(p)\n"
   ]
  },
  {
   "cell_type": "code",
   "execution_count": 11,
   "metadata": {},
   "outputs": [],
   "source": [
    "import math"
   ]
  },
  {
   "cell_type": "code",
   "execution_count": 15,
   "metadata": {},
   "outputs": [
    {
     "data": {
      "text/plain": [
       "inf"
      ]
     },
     "execution_count": 15,
     "metadata": {},
     "output_type": "execute_result"
    }
   ],
   "source": [
    "max(output_points[:, 2])"
   ]
  },
  {
   "cell_type": "code",
   "execution_count": 20,
   "metadata": {},
   "outputs": [
    {
     "data": {
      "text/plain": [
       "<matplotlib.image.AxesImage at 0x7f2adcb67b38>"
      ]
     },
     "execution_count": 20,
     "metadata": {},
     "output_type": "execute_result"
    },
    {
     "data": {
      "image/png": "[encoded data removed]",
      "text/plain": [
       "<Figure size 432x288 with 1 Axes>"
      ]
     },
     "metadata": {
      "needs_background": "light"
     },
     "output_type": "display_data"
    }
   ],
   "source": [
    "plt.imshow(disparity_map)"
   ]
  },
  {
   "cell_type": "code",
   "execution_count": 21,
   "metadata": {},
   "outputs": [
    {
     "data": {
      "text/plain": [
       "(324, 243)"
      ]
     },
     "execution_count": 21,
     "metadata": {},
     "output_type": "execute_result"
    }
   ],
   "source": [
    "np.shape(disparity_map)"
   ]
  },
  {
   "cell_type": "code",
   "execution_count": 37,
   "metadata": {},
   "outputs": [
    {
     "data": {
      "text/plain": [
       "432.0"
      ]
     },
     "execution_count": 37,
     "metadata": {},
     "output_type": "execute_result"
    }
   ],
   "source": [
    "image_size[1]/6\n"
   ]
  },
  {
   "cell_type": "code",
   "execution_count": 26,
   "metadata": {},
   "outputs": [
    {
     "data": {
      "text/plain": [
       "(324, 243, 3)"
      ]
     },
     "execution_count": 26,
     "metadata": {},
     "output_type": "execute_result"
    }
   ],
   "source": [
    "np.shape(points_3D)"
   ]
  },
  {
   "cell_type": "code",
   "execution_count": 29,
   "metadata": {},
   "outputs": [
    {
     "data": {
      "text/plain": [
       "-47.17491"
      ]
     },
     "execution_count": 29,
     "metadata": {},
     "output_type": "execute_result"
    }
   ],
   "source": [
    "points_3D[323][242][2]"
   ]
  },
  {
   "cell_type": "code",
   "execution_count": 30,
   "metadata": {},
   "outputs": [
    {
     "data": {
      "text/plain": [
       "array([[[ 36.553524 ,  45.979465 , -47.17491  ],\n",
       "        [ 36.516884 ,  45.979465 , -47.17491  ],\n",
       "        [ 36.48024  ,  45.979465 , -47.17491  ],\n",
       "        ...,\n",
       "        [ -7.9313273, -13.136991 ,  13.478546 ],\n",
       "        [ -7.9208584, -13.136991 ,  13.478546 ],\n",
       "        [ 27.686363 ,  45.979465 , -47.17491  ]],\n",
       "\n",
       "       [[ 36.553524 ,  45.942825 , -47.17491  ],\n",
       "        [ 36.516884 ,  45.942825 , -47.17491  ],\n",
       "        [ 36.48024  ,  45.942825 , -47.17491  ],\n",
       "        ...,\n",
       "        [ -7.9313273, -13.126522 ,  13.478546 ],\n",
       "        [ -7.9208584, -13.126522 ,  13.478546 ],\n",
       "        [ 27.686363 ,  45.942825 , -47.17491  ]],\n",
       "\n",
       "       [[ 36.553524 ,  45.906185 , -47.17491  ],\n",
       "        [ 36.516884 ,  45.906185 , -47.17491  ],\n",
       "        [ 36.48024  ,  45.906185 , -47.17491  ],\n",
       "        ...,\n",
       "        [ -7.9313273, -13.116053 ,  13.478546 ],\n",
       "        [ -7.9208584, -13.116053 ,  13.478546 ],\n",
       "        [ 27.686363 ,  45.906185 , -47.17491  ]],\n",
       "\n",
       "       ...,\n",
       "\n",
       "       [[ 36.553524 ,  34.217655 , -47.17491  ],\n",
       "        [ 36.516884 ,  34.217655 , -47.17491  ],\n",
       "        [ 36.48024  ,  34.217655 , -47.17491  ],\n",
       "        ...,\n",
       "        [ -2.5380247,  -3.1284714,   4.3131347],\n",
       "        [ -2.5346746,  -3.1284714,   4.3131347],\n",
       "        [ 27.686363 ,  34.217655 , -47.17491  ]],\n",
       "\n",
       "       [[ 36.553524 ,  34.181015 , -47.17491  ],\n",
       "        [ 36.516884 ,  34.181015 , -47.17491  ],\n",
       "        [ 36.48024  ,  34.181015 , -47.17491  ],\n",
       "        ...,\n",
       "        [ -2.530794 ,  -3.1162179,   4.3008466],\n",
       "        [ -2.5274534,  -3.1162179,   4.3008466],\n",
       "        [ 27.686363 ,  34.181015 , -47.17491  ]],\n",
       "\n",
       "       [[ 36.553524 ,  34.14437  , -47.17491  ],\n",
       "        [ 36.516884 ,  34.14437  , -47.17491  ],\n",
       "        [ 36.48024  ,  34.14437  , -47.17491  ],\n",
       "        ...,\n",
       "        [ -2.530794 ,  -3.1128771,   4.3008466],\n",
       "        [ -2.5274534,  -3.1128771,   4.3008466],\n",
       "        [ 27.686363 ,  34.14437  , -47.17491  ]]], dtype=float32)"
      ]
     },
     "execution_count": 30,
     "metadata": {},
     "output_type": "execute_result"
    }
   ],
   "source": [
    "points_3D"
   ]
  },
  {
   "cell_type": "code",
   "execution_count": null,
   "metadata": {},
   "outputs": [],
   "source": []
  }
 ],
 "metadata": {
  "kernelspec": {
   "display_name": "Python 3",
   "language": "python",
   "name": "python3"
  },
  "language_info": {
   "codemirror_mode": {
    "name": "ipython",
    "version": 3
   },
   "file_extension": ".py",
   "mimetype": "text/x-python",
   "name": "python",
   "nbconvert_exporter": "python",
   "pygments_lexer": "ipython3",
   "version": "3.6.8"
  }
 },
 "nbformat": 4,
 "nbformat_minor": 2
}
